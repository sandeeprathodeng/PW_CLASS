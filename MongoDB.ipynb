{
 "cells": [
  {
   "cell_type": "raw",
   "id": "500e4759-6f22-49e8-b1c1-b8e688011f25",
   "metadata": {},
   "source": [
    "Q1. What is MongoDB? Explain non-relational databases in short. In which scenarios it is preferred to use\n",
    "MongoDB over SQL databases?"
   ]
  },
  {
   "cell_type": "raw",
   "id": "c1b7473d-e4ee-4551-8902-4b01932dbc7a",
   "metadata": {},
   "source": [
    "MongoDB is a popular open-source, NoSQL (non-relational) database management system that is designed for flexible and scalable data storage and retrieval. MongoDB stores data in a flexible, JSON-like format called BSON (Binary JSON), making it well-suited for handling semi-structured or unstructured data. It is known for its ability to handle large volumes of data and is commonly used in modern web and mobile applications."
   ]
  },
  {
   "cell_type": "raw",
   "id": "de111c9b-308d-4516-85f0-c240185f4f06",
   "metadata": {},
   "source": [
    "Non-relational databases, often referred to as NoSQL databases, are a category of databases that do not follow the traditional tabular, relational database model. Instead, they offer a more flexible and dynamic way to store and retrieve data."
   ]
  },
  {
   "cell_type": "raw",
   "id": "a6a2e80e-8514-4e82-895a-6b47937c8c0b",
   "metadata": {},
   "source": [
    "Q2. State and Explain the features of MongoDB."
   ]
  },
  {
   "cell_type": "raw",
   "id": "0cf7dbfa-cc41-4ef6-b041-c3f98fc19f89",
   "metadata": {},
   "source": [
    "MongoDB is a widely used NoSQL (non-relational) database management system known for its flexibility, scalability, and ease of use. It offers several key features that make it popular for various applications. Here are some of the prominent features of MongoDB:"
   ]
  },
  {
   "cell_type": "raw",
   "id": "8acfd7a3-0373-4003-aff4-daddc0ac336f",
   "metadata": {},
   "source": [
    "Document-Oriented:\n",
    "\n",
    "MongoDB is a document-oriented database, which means it stores data in BSON (Binary JSON) documents. Each document can have a different structure, allowing for flexibility in data modeling.\n",
    "Documents can contain nested arrays and subdocuments, making it well-suited for handling complex and semi-structured data.\n",
    "No Schema Constraints:\n",
    "\n",
    "MongoDB has a dynamic schema, allowing you to add or remove fields from documents without affecting the entire collection. This schema-less design is particularly useful in agile development environments.\n",
    "Scalability:\n",
    "\n",
    "MongoDB is designed for horizontal scalability. You can distribute data across multiple servers or nodes using sharding to handle large data sets and high traffic loads.\n",
    "It supports automatic data partitioning and load balancing, making it suitable for scaling out.\n",
    "High Performance:\n",
    "\n",
    "MongoDB offers fast read and write operations due to its support for indexing and various query optimization techniques.\n",
    "It is well-suited for real-time applications and scenarios requiring low-latency data access.\n",
    "Rich Query Language:\n",
    "\n",
    "MongoDB provides a powerful query language for retrieving and manipulating data. Queries can handle filtering, sorting, and aggregation operations.\n",
    "Geospatial queries and text search capabilities are built into the query language."
   ]
  },
  {
   "cell_type": "raw",
   "id": "892cdec0-b344-4651-aa8d-b9268a5f2e8d",
   "metadata": {},
   "source": [
    "Q3. Write a code to connect MongoDB to Python. Also, create a database and a collection in MongoDB."
   ]
  },
  {
   "cell_type": "code",
   "execution_count": 1,
   "id": "fb44d1fd-0de7-4c90-8105-0988d99f1016",
   "metadata": {},
   "outputs": [
    {
     "name": "stdout",
     "output_type": "stream",
     "text": [
      "Collecting pymongo\n",
      "  Downloading pymongo-4.5.0-cp310-cp310-manylinux_2_17_x86_64.manylinux2014_x86_64.whl (671 kB)\n",
      "\u001b[2K     \u001b[90m━━━━━━━━━━━━━━━━━━━━━━━━━━━━━━━━━━━━━━\u001b[0m \u001b[32m671.3/671.3 kB\u001b[0m \u001b[31m15.5 MB/s\u001b[0m eta \u001b[36m0:00:00\u001b[0m00:01\u001b[0m\n",
      "\u001b[?25hCollecting dnspython<3.0.0,>=1.16.0\n",
      "  Downloading dnspython-2.4.2-py3-none-any.whl (300 kB)\n",
      "\u001b[2K     \u001b[90m━━━━━━━━━━━━━━━━━━━━━━━━━━━━━━━━━━━━━━\u001b[0m \u001b[32m300.4/300.4 kB\u001b[0m \u001b[31m35.7 MB/s\u001b[0m eta \u001b[36m0:00:00\u001b[0m\n",
      "\u001b[?25hInstalling collected packages: dnspython, pymongo\n",
      "Successfully installed dnspython-2.4.2 pymongo-4.5.0\n",
      "Note: you may need to restart the kernel to use updated packages.\n"
     ]
    }
   ],
   "source": [
    "pip install pymongo\n"
   ]
  },
  {
   "cell_type": "code",
   "execution_count": 3,
   "id": "66ce6e59-5fd6-445a-a165-7fcb1441214c",
   "metadata": {},
   "outputs": [
    {
     "name": "stdout",
     "output_type": "stream",
     "text": [
      "Connected to MongoDB: localhost:27017\n",
      "Using database: mydatabase\n",
      "Using collection: mycollection\n",
      "MongoDB connection is closed\n"
     ]
    }
   ],
   "source": [
    "import pymongo\n",
    "\n",
    "\n",
    "mongo_host = \"localhost\"  \n",
    "mongo_port = 27017       \n",
    "mongo_db_name = \"mydatabase\"  \n",
    "collection_name = \"mycollection\"  \n",
    "\n",
    "try:\n",
    "  \n",
    "    client = pymongo.MongoClient(host=mongo_host, port=mongo_port)\n",
    "\n",
    "   \n",
    "    db = client[mongo_db_name]\n",
    "\n",
    "   \n",
    "    collection = db[collection_name]\n",
    "\n",
    "    \n",
    "    print(f\"Connected to MongoDB: {mongo_host}:{mongo_port}\")\n",
    "    print(f\"Using database: {mongo_db_name}\")\n",
    "    print(f\"Using collection: {collection_name}\")\n",
    "\n",
    "except pymongo.errors.ConnectionFailure as e:\n",
    "    print(f\"Connection to MongoDB failed: {e}\")\n",
    "\n",
    "finally:\n",
    "\n",
    "    client.close()\n",
    "    print(\"MongoDB connection is closed\")\n"
   ]
  },
  {
   "cell_type": "raw",
   "id": "cbfefdf7-4fa8-4d8d-b69a-edadc2645de7",
   "metadata": {},
   "source": [
    "Q4. Using the database and the collection created in question number 3, write a code to insert one record,\n",
    "and insert many records. Use the find() and find_one() methods to print the inserted record."
   ]
  },
  {
   "cell_type": "code",
   "execution_count": 4,
   "id": "37d0a435-6ac1-473f-8f15-4ddf8c26270d",
   "metadata": {},
   "outputs": [
    {
     "name": "stdout",
     "output_type": "stream",
     "text": [
      "Connection to MongoDB failed: localhost:27017: [Errno 111] Connection refused, Timeout: 30s, Topology Description: <TopologyDescription id: 64fda828c4a0d2689f7e7d52, topology_type: Unknown, servers: [<ServerDescription ('localhost', 27017) server_type: Unknown, rtt: None, error=AutoReconnect('localhost:27017: [Errno 111] Connection refused')>]>\n",
      "MongoDB connection is closed\n"
     ]
    }
   ],
   "source": [
    "import pymongo\n",
    "\n",
    "mongo_host = \"localhost\"\n",
    "mongo_port = 27017\n",
    "mongo_db_name = \"mydatabase\"\n",
    "collection_name = \"mycollection\"\n",
    "\n",
    "single_record = {\n",
    "    \"name\": \"John Doe\",\n",
    "    \"age\": 30,\n",
    "    \"email\": \"johndoe@email.com\"\n",
    "}\n",
    "\n",
    "multiple_records = [\n",
    "    {\n",
    "        \"name\": \"Alice\",\n",
    "        \"age\": 25,\n",
    "        \"email\": \"alice@email.com\"\n",
    "    },\n",
    "    {\n",
    "        \"name\": \"Bob\",\n",
    "        \"age\": 28,\n",
    "        \"email\": \"bob@email.com\"\n",
    "    },\n",
    "    {\n",
    "        \"name\": \"Eve\",\n",
    "        \"age\": 22,\n",
    "        \"email\": \"eve@email.com\"\n",
    "    }\n",
    "]\n",
    "\n",
    "try:\n",
    "\n",
    "    client = pymongo.MongoClient(host=mongo_host, port=mongo_port)\n",
    "\n",
    "\n",
    "    db = client[mongo_db_name]\n",
    "    collection = db[collection_name]\n",
    "\n",
    "\n",
    "    insert_result = collection.insert_one(single_record)\n",
    "    print(f\"Inserted record ID: {insert_result.inserted_id}\")\n",
    "\n",
    "  \n",
    "    insert_results = collection.insert_many(multiple_records)\n",
    "    print(f\"Inserted {len(insert_results.inserted_ids)} records\")\n",
    "\n",
    "    found_record = collection.find_one({\"name\": \"John Doe\"})\n",
    "    if found_record:\n",
    "        print(\"Found record using find_one():\")\n",
    "        print(found_record)\n",
    "    else:\n",
    "        print(\"Record not found\")\n",
    "\n",
    "\n",
    "    all_records = collection.find()\n",
    "    print(\"\\nAll records found using find():\")\n",
    "    for record in all_records:\n",
    "        print(record)\n",
    "\n",
    "except pymongo.errors.ConnectionFailure as e:\n",
    "    print(f\"Connection to MongoDB failed: {e}\")\n",
    "\n",
    "finally:\n",
    "\n",
    "    client.close()\n",
    "    print(\"MongoDB connection is closed\")\n"
   ]
  },
  {
   "cell_type": "raw",
   "id": "7117693b-480c-4f29-a5ee-02b81f7a3914",
   "metadata": {},
   "source": [
    "Q5. Explain how you can use the find() method to query the MongoDB database. Write a simple code to\n",
    "demonstrate this."
   ]
  },
  {
   "cell_type": "code",
   "execution_count": 5,
   "id": "1bfa69b0-719a-4118-9570-fa077383e279",
   "metadata": {},
   "outputs": [
    {
     "name": "stdout",
     "output_type": "stream",
     "text": [
      "Documents matching the query:\n",
      "Connection to MongoDB failed: localhost:27017: [Errno 111] Connection refused, Timeout: 30s, Topology Description: <TopologyDescription id: 64fda86fc4a0d2689f7e7d54, topology_type: Unknown, servers: [<ServerDescription ('localhost', 27017) server_type: Unknown, rtt: None, error=AutoReconnect('localhost:27017: [Errno 111] Connection refused')>]>\n",
      "MongoDB connection is closed\n"
     ]
    }
   ],
   "source": [
    "import pymongo\n",
    "\n",
    "mongo_host = \"localhost\"\n",
    "mongo_port = 27017\n",
    "mongo_db_name = \"mydatabase\"\n",
    "collection_name = \"mycollection\"\n",
    "\n",
    "try:\n",
    "    \n",
    "    client = pymongo.MongoClient(host=mongo_host, port=mongo_port)\n",
    "\n",
    "    db = client[mongo_db_name]\n",
    "    collection = db[collection_name]\n",
    "    query = {\"age\": {\"$gte\": 25}} \n",
    "    cursor = collection.find(query)\n",
    "    print(\"Documents matching the query:\")\n",
    "    for document in cursor:\n",
    "        print(document)\n",
    "except pymongo.errors.ConnectionFailure as e:\n",
    "    print(f\"Connection to MongoDB failed: {e}\")\n",
    "\n",
    "finally:\n",
    "    client.close()\n",
    "    print(\"MongoDB connection is closed\")\n"
   ]
  },
  {
   "cell_type": "raw",
   "id": "045b8b2d-fd9d-4426-bc71-8085f461bd8d",
   "metadata": {},
   "source": [
    "Q6. Explain the sort() method. Give an example to demonstrate sorting in MongoDB."
   ]
  },
  {
   "cell_type": "raw",
   "id": "a05330da-416e-41d3-99a2-eee77da53482",
   "metadata": {},
   "source": [
    "sort() method in MongoDB is used to sort the documents (records) in a collection based on one or more fields. It allows you to specify the sorting order, either in ascending (1) or descending (-1) order, and you can sort by multiple fields if needed."
   ]
  },
  {
   "cell_type": "code",
   "execution_count": null,
   "id": "485434bc-cbca-4be0-8486-01e81b5d164c",
   "metadata": {},
   "outputs": [],
   "source": [
    "import pymongo\n",
    "\n",
    "\n",
    "mongo_host = \"localhost\"\n",
    "mongo_port = 27017\n",
    "mongo_db_name = \"mydatabase\"\n",
    "collection_name = \"mycollection\"\n",
    "\n",
    "try:\n",
    "    \n",
    "    client = pymongo.MongoClient(host=mongo_host, port=mongo_port)\n",
    "\n",
    "  \n",
    "    db = client[mongo_db_name]\n",
    "    collection = db[collection_name]\n",
    "\n",
    "\n",
    "    query = {\"age\": {\"$gte\": 25}} \n",
    "\n",
    "    # Use the find() method with sort() to retrieve and sort documents\n",
    "    cursor = collection.find(query).sort(\"age\", pymongo.ASCENDING)  # Sort by \"age\" in ascending order\n",
    "\n",
    "    # Iterate through the cursor and print the sorted documents\n",
    "    print(\"Documents sorted by age (ascending):\")\n",
    "    for document in cursor:\n",
    "        print(document)\n",
    "\n",
    "except pymongo.errors.ConnectionFailure as e:\n",
    "    print(f\"Connection to MongoDB failed: {e}\")\n",
    "\n",
    "finally:\n",
    "    # Close the MongoDB connection (optional)\n",
    "    client.close()\n",
    "    print(\"MongoDB connection is closed\")\n"
   ]
  }
 ],
 "metadata": {
  "kernelspec": {
   "display_name": "Python 3 (ipykernel)",
   "language": "python",
   "name": "python3"
  },
  "language_info": {
   "codemirror_mode": {
    "name": "ipython",
    "version": 3
   },
   "file_extension": ".py",
   "mimetype": "text/x-python",
   "name": "python",
   "nbconvert_exporter": "python",
   "pygments_lexer": "ipython3",
   "version": "3.10.8"
  }
 },
 "nbformat": 4,
 "nbformat_minor": 5
}
