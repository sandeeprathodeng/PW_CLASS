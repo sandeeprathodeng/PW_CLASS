{
 "cells": [
  {
   "cell_type": "raw",
   "id": "c58c9dec-fcdd-400d-83a5-f8a974f78903",
   "metadata": {},
   "source": [
    "Q1. What is a database? Differentiate between SQL and NoSQL databases."
   ]
  },
  {
   "cell_type": "raw",
   "id": "28b669f3-68a1-4d9c-ac22-bff37af05025",
   "metadata": {},
   "source": [
    "What is a Database?\n",
    "\n",
    "A database is a structured collection of data that is organized and stored in a way that allows for efficient retrieval, updating, and management of that data. Databases are used to store and manage large volumes of information, making it accessible for various applications and users. They play a crucial role in modern software systems and applications."
   ]
  },
  {
   "cell_type": "raw",
   "id": "155cf4a9-2428-4549-aa66-fc25967f183f",
   "metadata": {},
   "source": [
    "SQL Databases:\n",
    "\n",
    "Structure: SQL databases are relational databases with a well-defined structure. Data is organized into tables with rows and columns, and these tables can have relationships defined between them.\n",
    "\n",
    "Schema: SQL databases enforce a strict schema, which defines the structure and data types of each table. Changes to the schema can be challenging in production systems.\n",
    "\n",
    "ACID Properties: SQL databases typically adhere to ACID (Atomicity, Consistency, Isolation, Durability) properties, ensuring data consistency and reliability.\n",
    "\n",
    "Scaling: Traditional SQL databases are usually scaled vertically, which means adding more resources (CPU, memory) to a single server to handle increased load.\n",
    "\n",
    "Use Cases: SQL databases are suitable for applications where data has a well-defined structure and relationships, such as financial systems, e-commerce platforms, and content management systems.\n",
    "\n",
    "Examples: MySQL, PostgreSQL, Oracle, SQL Server."
   ]
  },
  {
   "cell_type": "raw",
   "id": "30754253-6d4c-4d26-8e6d-512b3035992b",
   "metadata": {},
   "source": [
    "NoSQL Databases:\n",
    "\n",
    "Structure: NoSQL databases are non-relational and can have various structures, including document-oriented, key-value, column-family, and graph databases. Data can be stored in flexible formats.\n",
    "\n",
    "Schema: NoSQL databases are typically schema-less or have a dynamic schema, allowing for flexibility in data storage. Fields can vary from one document or record to another.\n",
    "\n",
    "ACID Properties: Many NoSQL databases relax some of the ACID properties in favor of high scalability and performance. They often prioritize eventual consistency over strict consistency.\n",
    "\n",
    "Scaling: NoSQL databases are designed for horizontal scalability, where additional servers or nodes can be added to a distributed system to handle increased loads.\n",
    "\n",
    "Use Cases: NoSQL databases are suitable for applications with rapidly changing data requirements, big data applications, real-time analytics, and systems that need to scale horizontally.\n",
    "\n",
    "Examples: MongoDB (document-oriented), Redis (key-value), Cassandra (column-family), Neo4j (graph).\n",
    "\n",
    "In summary, the main differences between SQL and NoSQL databases lie in their data models, schema flexibility, consistency models, and scalability approaches. The choice between SQL and NoSQL databases depends on the specific requirements and characteristics of the application being developed.\n",
    "\n",
    "\n",
    "\n",
    "\n",
    "\n"
   ]
  },
  {
   "cell_type": "raw",
   "id": "1f49db3c-ed1b-478c-9c17-f3f1fbe992ae",
   "metadata": {},
   "source": [
    "Q2. What is DDL? Explain why CREATE, DROP, ALTER, and TRUNCATE are used with an example."
   ]
  },
  {
   "cell_type": "raw",
   "id": "fddbaa95-9013-478e-80e6-7c4791200756",
   "metadata": {},
   "source": [
    "DDL (Data Definition Language) is a subset of SQL (Structured Query Language) used to define, manage, and modify the structure of a database. DDL statements are responsible for creating, altering, and deleting database objects such as tables, indexes, and constraints. These statements do not deal with the actual data stored in the database;"
   ]
  },
  {
   "cell_type": "raw",
   "id": "12d7893c-1cda-4127-b726-720c0d7cc4f1",
   "metadata": {},
   "source": [
    "CREATE:"
   ]
  },
  {
   "cell_type": "raw",
   "id": "b91a339b-a84f-4a89-8222-ed5a7bac33b7",
   "metadata": {},
   "source": [
    "CREATE TABLE Customers (\n",
    "    CustomerID INT PRIMARY KEY,\n",
    "    FirstName VARCHAR(50),\n",
    "    LastName VARCHAR(50),\n",
    "    Email VARCHAR(100),\n",
    "    Phone VARCHAR(20)\n",
    ");\n"
   ]
  },
  {
   "cell_type": "raw",
   "id": "566f29d4-4390-4f3f-8092-038e1ee8714a",
   "metadata": {},
   "source": [
    "DROP"
   ]
  },
  {
   "cell_type": "raw",
   "id": "b1662ac7-2be4-44eb-a9f8-2b6617cbd32d",
   "metadata": {},
   "source": [
    "DROP TABLE Customers;\n"
   ]
  },
  {
   "cell_type": "raw",
   "id": "5c639bd2-b261-46b7-a457-9efdeb57908b",
   "metadata": {},
   "source": [
    "ALTER"
   ]
  },
  {
   "cell_type": "raw",
   "id": "def48c15-0031-47bb-a495-c87e8f385406",
   "metadata": {},
   "source": [
    "ALTER TABLE Customers\n",
    "ADD Address VARCHAR(255);\n"
   ]
  },
  {
   "cell_type": "raw",
   "id": "2b43c8e5-8fdf-4fa4-826c-5d1926b40abc",
   "metadata": {},
   "source": [
    "TRUNCATE"
   ]
  },
  {
   "cell_type": "raw",
   "id": "d93c1b42-fd76-4036-81fe-b60104981261",
   "metadata": {},
   "source": [
    "TRUNCATE TABLE Customers;\n"
   ]
  },
  {
   "cell_type": "raw",
   "id": "12cee006-9fd6-464f-afb4-82eefa04bc56",
   "metadata": {},
   "source": [
    "Q3. What is DML? Explain INSERT, UPDATE, and DELETE with an example."
   ]
  },
  {
   "cell_type": "raw",
   "id": "43556ad4-14da-4fb4-a3a4-0893f4590af3",
   "metadata": {},
   "source": [
    "DML (Data Manipulation Language) is a subset of SQL (Structured Query Language) that deals with the manipulation of data stored in a database. DML statements are used to insert, update, and delete data in database tables. These statements are essential for managing and modifying the content of a database."
   ]
  },
  {
   "cell_type": "raw",
   "id": "3ba33173-f229-4f7a-a049-6f768afc0363",
   "metadata": {},
   "source": [
    "INSERT INTO Customers (CustomerID, FirstName, LastName, Email, Phone)\n",
    "VALUES (1, 'John', 'Doe', 'johndoe@email.com', '123-456-7890');\n"
   ]
  },
  {
   "cell_type": "raw",
   "id": "bf8fcb2f-57f9-4d04-b08a-78604a35eac3",
   "metadata": {},
   "source": [
    "UPDATE Customers\n",
    "SET Email = 'newemail@email.com'\n",
    "WHERE CustomerID = 1;\n"
   ]
  },
  {
   "cell_type": "raw",
   "id": "2d298c09-08d3-4b0c-bb6a-ff7a30ff038b",
   "metadata": {},
   "source": [
    "DELETE FROM Customers\n",
    "WHERE CustomerID = 1;\n"
   ]
  },
  {
   "cell_type": "raw",
   "id": "ca354688-d7c6-43ff-be99-9ef0e42f1b6d",
   "metadata": {},
   "source": [
    "Q4. What is DQL? Explain SELECT with an example."
   ]
  },
  {
   "cell_type": "raw",
   "id": "d650fe0a-b684-4ce3-a6b9-dd9b42f5e3bd",
   "metadata": {},
   "source": [
    "DQL (Data Query Language) is a subset of SQL (Structured Query Language) used for querying or retrieving data from a database. DQL is focused on selecting, filtering, and retrieving specific data records from one or more database tables. The primary DQL statement is the SELECT statement."
   ]
  },
  {
   "cell_type": "raw",
   "id": "7c7a3c1f-5b84-4a7d-9734-b2fe7b21ade9",
   "metadata": {},
   "source": [
    "SELECT "
   ]
  },
  {
   "cell_type": "raw",
   "id": "893f3265-bfc6-4587-81c9-26dea48b0e13",
   "metadata": {},
   "source": [
    "SELECT column1, column2, ...\n",
    "FROM table_name\n",
    "WHERE condition;\n"
   ]
  },
  {
   "cell_type": "raw",
   "id": "e2e29f01-b568-4778-9ce6-b5e0fb0d48c7",
   "metadata": {},
   "source": [
    "Q5. Explain Primary Key and Foreign Key."
   ]
  },
  {
   "cell_type": "raw",
   "id": "a85344d5-b3bb-4b7b-8a22-b00e5fbfbe20",
   "metadata": {},
   "source": [
    " Primary Key is a field or combination of fields in a database table that uniquely identifies each row or record in that table. It serves as a fundamental concept in relational databases and is crucial for data integrity and the establishment of relationships between tables."
   ]
  },
  {
   "cell_type": "raw",
   "id": "538f50e4-4d31-486f-93c4-c8b829b56927",
   "metadata": {},
   "source": [
    " Foreign Key is a field or set of fields in one table that refers to the primary key of another table. It establishes a relationship between the two tables, allowing for data integrity and the enforcement of referential constraints. Foreign keys are used to maintain consistency and ensure that data in one table corresponds to data in another table."
   ]
  },
  {
   "cell_type": "raw",
   "id": "500c6299-84ce-4638-a2fc-b493139e6687",
   "metadata": {},
   "source": [
    "Q6. Write a python code to connect MySQL to python. Explain the cursor() and execute() method."
   ]
  },
  {
   "cell_type": "raw",
   "id": "9f28cfdc-15ab-46e2-a269-3d76f533e9b4",
   "metadata": {},
   "source": [
    "pip install mysql-connector-python\n"
   ]
  },
  {
   "cell_type": "code",
   "execution_count": null,
   "id": "265f5a01-e004-482a-ba32-bb0e476d63f1",
   "metadata": {},
   "outputs": [],
   "source": [
    "import mysql.connector\n",
    "\n",
    "\n",
    "host = \"localhost\"\n",
    "user = \"your_username\"\n",
    "password = \"your_password\"\n",
    "database = \"your_database_name\"\n",
    "\n",
    "try:\n",
    "\n",
    "    connection = mysql.connector.connect(\n",
    "        host=host,\n",
    "        user=user,\n",
    "        password=password,\n",
    "        database=database\n",
    "    )\n",
    "\n",
    "    if connection.is_connected():\n",
    "        print(\"Connected to MySQL database\")\n",
    "\n",
    "\n",
    "        cursor = connection.cursor()\n",
    "\n",
    "        cursor.execute(\"SELECT * FROM your_table_name\")\n",
    "\n",
    "\n",
    "        results = cursor.fetchall()\n",
    "        for row in results:\n",
    "            print(row)\n",
    "\n",
    "except mysql.connector.Error as error:\n",
    "    print(f\"Error: {error}\")\n",
    "finally:\n",
    "    if connection.is_connected():\n",
    "\n",
    "        cursor.close()\n",
    "        connection.close()\n",
    "        print(\"MySQL connection is closed\")\n"
   ]
  },
  {
   "cell_type": "raw",
   "id": "8e40e5a9-37d2-42b6-8b75-0d372e1a0b92",
   "metadata": {},
   "source": [
    "Q7. Give the order of execution of SQL clauses in an SQL query."
   ]
  },
  {
   "cell_type": "code",
   "execution_count": null,
   "id": "39f5c0e4-e37c-4620-bc62-246b23e8eb88",
   "metadata": {},
   "outputs": [],
   "source": []
  }
 ],
 "metadata": {
  "kernelspec": {
   "display_name": "Python 3 (ipykernel)",
   "language": "python",
   "name": "python3"
  },
  "language_info": {
   "codemirror_mode": {
    "name": "ipython",
    "version": 3
   },
   "file_extension": ".py",
   "mimetype": "text/x-python",
   "name": "python",
   "nbconvert_exporter": "python",
   "pygments_lexer": "ipython3",
   "version": "3.10.8"
  }
 },
 "nbformat": 4,
 "nbformat_minor": 5
}
