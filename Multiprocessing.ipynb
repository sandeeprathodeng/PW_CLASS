{
 "cells": [
  {
   "cell_type": "raw",
   "id": "ea798928-e9fa-4096-805e-53811c90998f",
   "metadata": {},
   "source": [
    "Q1. What is multiprocessing in python? Why is it useful?"
   ]
  },
  {
   "cell_type": "raw",
   "id": "b05f8b3f-522f-4764-b3c2-ab1875dc32c5",
   "metadata": {},
   "source": [
    "Multiprocessing in Python refers to the capability of running multiple processes (independent instances of a program) concurrently, each with its own memory space and Python interpreter. Python's multiprocessing module is part of the Python Standard Library and provides a way to create and manage multiple processes, allowing developers to leverage the full potential of multi-core CPUs.\n",
    "\n",
    "Key features and concepts of multiprocessing in Python:\n",
    "\n",
    "Parallel Execution: Multiprocessing allows you to execute multiple tasks or functions concurrently, taking advantage of multi-core processors. This can lead to significant performance improvements for CPU-bound tasks.\n",
    "\n",
    "Separate Memory Space: Each process created using multiprocessing has its own memory space. This means that variables and data are not shared by default between processes, reducing the risk of data corruption and simplifying parallel programming.\n",
    "\n",
    "Isolation: Processes are isolated from one another, so if one process crashes or encounters an error, it does not affect other processes. This makes the overall application more robust.\n",
    "\n",
    "Independence: Each process runs independently, making it suitable for tasks that do not require tight coordination between processes. Processes can be used to perform independent computations or perform the same task on different sets of data."
   ]
  },
  {
   "cell_type": "raw",
   "id": "ee36cc0d-2b2f-4683-9a5e-2918354648cb",
   "metadata": {},
   "source": [
    "Q2. What are the differences between multiprocessing and multithreading?"
   ]
  },
  {
   "cell_type": "raw",
   "id": "a8914466-ad6a-429f-94ef-75dfc5cac123",
   "metadata": {},
   "source": [
    "1. Processes vs. Threads:\n",
    "\n",
    "Multiprocessing: In multiprocessing, multiple processes are created, each with its own memory space and Python interpreter. These processes are independent of each other and run as separate programs.\n",
    "Multithreading: In multithreading, multiple threads run within the same process and share the same memory space and Python interpreter. Threads are lightweight and more memory-efficient compared to processes.\n",
    "2. Isolation:\n",
    "\n",
    "Multiprocessing: Processes are isolated from each other, which means that variables and data are not shared by default between processes. Communication between processes typically requires inter-process communication (IPC) mechanisms like pipes or queues.\n",
    "Multithreading: Threads share the same memory space, which makes it easier to share data and variables between threads. However, this can also lead to synchronization issues and data conflicts if not managed correctly.\n",
    "3. Parallelism:\n",
    "\n",
    "Multiprocessing: True parallelism is achieved because multiple processes can run concurrently on multi-core processors. Each process is scheduled independently by the operating system.\n",
    "Multithreading: Multithreading achieves concurrency, not necessarily parallelism. Due to the Global Interpreter Lock (GIL) in Python, only one thread can execute Python bytecode at a time. This restricts the parallel execution of threads in CPU-bound tasks. However, threads can still run concurrently in I/O-bound tasks where they are waiting for external resources (e.g., file I/O or network requests)."
   ]
  },
  {
   "cell_type": "raw",
   "id": "cf4e03bb-adfc-4e7f-9d00-568643e9c4d2",
   "metadata": {},
   "source": [
    "Q3. Write a python code to create a process using the multiprocessing module."
   ]
  },
  {
   "cell_type": "raw",
   "id": "9d534764-3a2e-4550-8af5-b637296ac2a1",
   "metadata": {},
   "source": [
    "import multiprocessing\n",
    "\n",
    "def print_message():\n",
    "    \"\"\"Function to print a message from a child process.\"\"\"\n",
    "    print(\"Hello from the child process!\")\n",
    "\n",
    "if __name__ == \"__main__\":\n",
    "\n",
    "    child_process = multiprocessing.Process(target=print_message)\n",
    "\n",
    "    # Start the child process\n",
    "    child_process.start()\n",
    "\n",
    "\n",
    "    child_process.join()\n",
    "\n",
    "    print(\"Child process has completed.\")\n"
   ]
  },
  {
   "cell_type": "code",
   "execution_count": null,
   "id": "05818ecc-5fc4-41d4-b184-73ade815865f",
   "metadata": {},
   "outputs": [],
   "source": [
    "Q4. What is a multiprocessing pool in python? Why is it used?"
   ]
  },
  {
   "cell_type": "raw",
   "id": "dce8b2a9-a8c6-4def-853f-fee5e9001d6f",
   "metadata": {},
   "source": [
    "A multiprocessing pool in Python, specifically provided by the multiprocessing module, is a mechanism for managing and distributing multiple processes concurrently, with the primary goal of parallelizing tasks. It allows you to efficiently create and manage a group of worker processes that can execute tasks in parallel, making it easier to parallelize and distribute work across multiple CPU cores or even multiple machines.\n",
    "\n",
    "Here's an overview of what a multiprocessing pool is and why it's used:\n",
    "\n",
    "Management of Worker Processes: A multiprocessing pool maintains a pool of worker processes that are pre-created and ready to execute tasks. These worker processes are typically created at the start of the program, reducing the overhead of creating and terminating processes for each task.\n",
    "\n",
    "Task Parallelism: It enables task-level parallelism, where multiple tasks (functions or callable objects) can be executed concurrently in separate processes. Each worker process takes a task from a queue, executes it, and then picks up the next available task, allowing multiple tasks to run simultaneously.\n",
    "\n",
    "Parallel Processing: Multiprocessing pools are used to take advantage of multi-core processors. Each worker process runs on a separate core, allowing multiple CPU-bound tasks to be performed concurrently, thus improving the overall program's performance.\n",
    "\n",
    "Simplified Code: Using a multiprocessing pool simplifies the code required for managing and synchronizing multiple processes. Developers can focus on defining tasks and let the pool handle process creation, task distribution, and result gathering.\n",
    "\n",
    "Load Balancing: The pool manages the distribution of tasks among worker processes, ensuring that tasks are distributed evenly, which helps achieve load balancing.\n",
    "\n",
    "Scalability: Multiprocessing pools can be scaled up or down as needed, allowing you to adapt to the available hardware resources. You can increase the pool size for better "
   ]
  },
  {
   "cell_type": "code",
   "execution_count": null,
   "id": "734ae50f-77cc-4b27-8769-bb337b612893",
   "metadata": {},
   "outputs": [],
   "source": [
    "Q5. How can we create a pool of worker processes in python using the multiprocessing module?"
   ]
  },
  {
   "cell_type": "code",
   "execution_count": 1,
   "id": "6627c0e5-7dbe-4e8f-9d4e-3c6b4ae7cfe8",
   "metadata": {},
   "outputs": [],
   "source": [
    "import multiprocessing\n"
   ]
  },
  {
   "cell_type": "code",
   "execution_count": 2,
   "id": "6e3bdaf8-ae26-42ab-981c-57494a8dacfb",
   "metadata": {},
   "outputs": [],
   "source": [
    "def my_function(x):\n",
    "    # Perform some task\n",
    "    result = x * x\n",
    "    return result\n"
   ]
  },
  {
   "cell_type": "code",
   "execution_count": 3,
   "id": "ba3a5e37-1db3-477a-b738-1d8082da420e",
   "metadata": {},
   "outputs": [
    {
     "ename": "SyntaxError",
     "evalue": "incomplete input (1147347012.py, line 1)",
     "output_type": "error",
     "traceback": [
      "\u001b[0;36m  Cell \u001b[0;32mIn[3], line 1\u001b[0;36m\u001b[0m\n\u001b[0;31m    if __name__ == \"__main__\":\u001b[0m\n\u001b[0m                              ^\u001b[0m\n\u001b[0;31mSyntaxError\u001b[0m\u001b[0;31m:\u001b[0m incomplete input\n"
     ]
    }
   ],
   "source": [
    "if __name__ == \"__main__\":\n"
   ]
  },
  {
   "cell_type": "code",
   "execution_count": 4,
   "id": "c7a30b11-a548-42e5-b567-8361aea770ec",
   "metadata": {},
   "outputs": [],
   "source": [
    "pool = multiprocessing.Pool(processes=4)\n"
   ]
  },
  {
   "cell_type": "code",
   "execution_count": 5,
   "id": "f3d75598-cf54-4131-b0fb-db230c991152",
   "metadata": {},
   "outputs": [],
   "source": [
    "input_data = [1, 2, 3, 4, 5]\n"
   ]
  },
  {
   "cell_type": "code",
   "execution_count": 6,
   "id": "492b322a-3ab1-4d57-9b09-54d41faf1c33",
   "metadata": {},
   "outputs": [],
   "source": [
    "results = pool.map(my_function, input_data)\n"
   ]
  },
  {
   "cell_type": "code",
   "execution_count": 7,
   "id": "39f9e56e-f904-4724-a334-ca1565733599",
   "metadata": {},
   "outputs": [],
   "source": [
    "pool.close()\n"
   ]
  },
  {
   "cell_type": "code",
   "execution_count": 8,
   "id": "c2f32cff-3786-4135-934b-773a722994a3",
   "metadata": {},
   "outputs": [],
   "source": [
    "pool.join()\n"
   ]
  },
  {
   "cell_type": "code",
   "execution_count": 9,
   "id": "e150bc19-0dba-4e5b-b644-b144b6bf0837",
   "metadata": {},
   "outputs": [
    {
     "ename": "ValueError",
     "evalue": "Pool not running",
     "output_type": "error",
     "traceback": [
      "\u001b[0;31m---------------------------------------------------------------------------\u001b[0m",
      "\u001b[0;31mValueError\u001b[0m                                Traceback (most recent call last)",
      "Cell \u001b[0;32mIn[9], line 1\u001b[0m\n\u001b[0;32m----> 1\u001b[0m results \u001b[38;5;241m=\u001b[39m \u001b[43mpool\u001b[49m\u001b[38;5;241;43m.\u001b[39;49m\u001b[43mmap\u001b[49m\u001b[43m(\u001b[49m\u001b[43mmy_function\u001b[49m\u001b[43m,\u001b[49m\u001b[43m \u001b[49m\u001b[43minput_data\u001b[49m\u001b[43m)\u001b[49m\n",
      "File \u001b[0;32m/opt/conda/lib/python3.10/multiprocessing/pool.py:367\u001b[0m, in \u001b[0;36mPool.map\u001b[0;34m(self, func, iterable, chunksize)\u001b[0m\n\u001b[1;32m    362\u001b[0m \u001b[38;5;28;01mdef\u001b[39;00m \u001b[38;5;21mmap\u001b[39m(\u001b[38;5;28mself\u001b[39m, func, iterable, chunksize\u001b[38;5;241m=\u001b[39m\u001b[38;5;28;01mNone\u001b[39;00m):\n\u001b[1;32m    363\u001b[0m     \u001b[38;5;124;03m'''\u001b[39;00m\n\u001b[1;32m    364\u001b[0m \u001b[38;5;124;03m    Apply `func` to each element in `iterable`, collecting the results\u001b[39;00m\n\u001b[1;32m    365\u001b[0m \u001b[38;5;124;03m    in a list that is returned.\u001b[39;00m\n\u001b[1;32m    366\u001b[0m \u001b[38;5;124;03m    '''\u001b[39;00m\n\u001b[0;32m--> 367\u001b[0m     \u001b[38;5;28;01mreturn\u001b[39;00m \u001b[38;5;28;43mself\u001b[39;49m\u001b[38;5;241;43m.\u001b[39;49m\u001b[43m_map_async\u001b[49m\u001b[43m(\u001b[49m\u001b[43mfunc\u001b[49m\u001b[43m,\u001b[49m\u001b[43m \u001b[49m\u001b[43miterable\u001b[49m\u001b[43m,\u001b[49m\u001b[43m \u001b[49m\u001b[43mmapstar\u001b[49m\u001b[43m,\u001b[49m\u001b[43m \u001b[49m\u001b[43mchunksize\u001b[49m\u001b[43m)\u001b[49m\u001b[38;5;241m.\u001b[39mget()\n",
      "File \u001b[0;32m/opt/conda/lib/python3.10/multiprocessing/pool.py:476\u001b[0m, in \u001b[0;36mPool._map_async\u001b[0;34m(self, func, iterable, mapper, chunksize, callback, error_callback)\u001b[0m\n\u001b[1;32m    471\u001b[0m \u001b[38;5;28;01mdef\u001b[39;00m \u001b[38;5;21m_map_async\u001b[39m(\u001b[38;5;28mself\u001b[39m, func, iterable, mapper, chunksize\u001b[38;5;241m=\u001b[39m\u001b[38;5;28;01mNone\u001b[39;00m, callback\u001b[38;5;241m=\u001b[39m\u001b[38;5;28;01mNone\u001b[39;00m,\n\u001b[1;32m    472\u001b[0m         error_callback\u001b[38;5;241m=\u001b[39m\u001b[38;5;28;01mNone\u001b[39;00m):\n\u001b[1;32m    473\u001b[0m     \u001b[38;5;124;03m'''\u001b[39;00m\n\u001b[1;32m    474\u001b[0m \u001b[38;5;124;03m    Helper function to implement map, starmap and their async counterparts.\u001b[39;00m\n\u001b[1;32m    475\u001b[0m \u001b[38;5;124;03m    '''\u001b[39;00m\n\u001b[0;32m--> 476\u001b[0m     \u001b[38;5;28;43mself\u001b[39;49m\u001b[38;5;241;43m.\u001b[39;49m\u001b[43m_check_running\u001b[49m\u001b[43m(\u001b[49m\u001b[43m)\u001b[49m\n\u001b[1;32m    477\u001b[0m     \u001b[38;5;28;01mif\u001b[39;00m \u001b[38;5;129;01mnot\u001b[39;00m \u001b[38;5;28mhasattr\u001b[39m(iterable, \u001b[38;5;124m'\u001b[39m\u001b[38;5;124m__len__\u001b[39m\u001b[38;5;124m'\u001b[39m):\n\u001b[1;32m    478\u001b[0m         iterable \u001b[38;5;241m=\u001b[39m \u001b[38;5;28mlist\u001b[39m(iterable)\n",
      "File \u001b[0;32m/opt/conda/lib/python3.10/multiprocessing/pool.py:353\u001b[0m, in \u001b[0;36mPool._check_running\u001b[0;34m(self)\u001b[0m\n\u001b[1;32m    351\u001b[0m \u001b[38;5;28;01mdef\u001b[39;00m \u001b[38;5;21m_check_running\u001b[39m(\u001b[38;5;28mself\u001b[39m):\n\u001b[1;32m    352\u001b[0m     \u001b[38;5;28;01mif\u001b[39;00m \u001b[38;5;28mself\u001b[39m\u001b[38;5;241m.\u001b[39m_state \u001b[38;5;241m!=\u001b[39m RUN:\n\u001b[0;32m--> 353\u001b[0m         \u001b[38;5;28;01mraise\u001b[39;00m \u001b[38;5;167;01mValueError\u001b[39;00m(\u001b[38;5;124m\"\u001b[39m\u001b[38;5;124mPool not running\u001b[39m\u001b[38;5;124m\"\u001b[39m)\n",
      "\u001b[0;31mValueError\u001b[0m: Pool not running"
     ]
    }
   ],
   "source": [
    "results = pool.map(my_function, input_data)\n"
   ]
  },
  {
   "cell_type": "code",
   "execution_count": 10,
   "id": "a84d371c-cec4-4a63-842b-8090f7e62477",
   "metadata": {},
   "outputs": [
    {
     "name": "stdout",
     "output_type": "stream",
     "text": [
      "Results: [1, 4, 9, 16, 25]\n"
     ]
    }
   ],
   "source": [
    "print(\"Results:\", results)"
   ]
  },
  {
   "cell_type": "code",
   "execution_count": 11,
   "id": "dcc780c5-b6e5-403a-aaef-6f97096d8d9c",
   "metadata": {},
   "outputs": [
    {
     "name": "stdout",
     "output_type": "stream",
     "text": [
      "Results: [1, 4, 9, 16, 25]\n"
     ]
    }
   ],
   "source": [
    "import multiprocessing\n",
    "\n",
    "def my_function(x):\n",
    "    result = x * x\n",
    "    return result\n",
    "\n",
    "if __name__ == \"__main__\":\n",
    "    pool = multiprocessing.Pool(processes=4)\n",
    "    input_data = [1, 2, 3, 4, 5]\n",
    "    results = pool.map(my_function, input_data)\n",
    "    pool.close()\n",
    "    pool.join()\n",
    "    print(\"Results:\", results)\n"
   ]
  },
  {
   "cell_type": "code",
   "execution_count": null,
   "id": "03f54073-7eb6-4569-8505-19e2bdb448fe",
   "metadata": {},
   "outputs": [],
   "source": [
    "Q6. Write a python program to create 4 processes, each process should print a different number using the\n",
    "multiprocessing module in python."
   ]
  }
 ],
 "metadata": {
  "kernelspec": {
   "display_name": "Python 3 (ipykernel)",
   "language": "python",
   "name": "python3"
  },
  "language_info": {
   "codemirror_mode": {
    "name": "ipython",
    "version": 3
   },
   "file_extension": ".py",
   "mimetype": "text/x-python",
   "name": "python",
   "nbconvert_exporter": "python",
   "pygments_lexer": "ipython3",
   "version": "3.10.8"
  }
 },
 "nbformat": 4,
 "nbformat_minor": 5
}
