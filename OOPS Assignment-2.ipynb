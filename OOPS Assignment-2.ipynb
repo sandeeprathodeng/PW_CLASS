{
 "cells": [
  {
   "cell_type": "raw",
   "id": "682efb1b-6134-4a2f-822a-972e78ab490c",
   "metadata": {},
   "source": [
    "Q1. What is Abstraction in OOps? Explain with an example.\n",
    "Q2. Differentiate between Abstraction and Encapsulation. Explain with an example.\n",
    "Q3. What is abc module in python? Why is it used?\n",
    "Q4. How can we achieve data abstraction?\n",
    "Q5. Can we create an instance of an abstract class? Explain your answer."
   ]
  },
  {
   "cell_type": "markdown",
   "id": "518fc7a5-eede-4d2b-8072-f857cc12e272",
   "metadata": {},
   "source": [
    "Q1. What is Abstraction in OOps? Explain with an example."
   ]
  },
  {
   "cell_type": "raw",
   "id": "b92263d3-959d-44ee-bf30-46e1522d1642",
   "metadata": {},
   "source": [
    "Abstraction is one of the four fundamental pillars of Object-Oriented Programming (OOP) and is a concept that focuses on simplifying complex systems by modeling classes based on their essential characteristics while hiding unnecessary details."
   ]
  },
  {
   "cell_type": "code",
   "execution_count": 3,
   "id": "8e21ab39-6ffb-4f58-b028-879ca75d5268",
   "metadata": {},
   "outputs": [
    {
     "name": "stdout",
     "output_type": "stream",
     "text": [
      "My Car starts the engine.\n",
      "My Car stops the engine.\n",
      "My Bicycle starts pedaling.\n",
      "My Bicycle stops pedaling.\n"
     ]
    }
   ],
   "source": [
    "from abc import ABC, abstractmethod\n",
    "\n",
    "# Abstract class representing a vehicle\n",
    "class Vehicle(ABC):\n",
    "    def __init__(self, name):\n",
    "        self.name = name\n",
    "\n",
    "    @abstractmethod\n",
    "    def start(self):\n",
    "        pass\n",
    "\n",
    "    @abstractmethod\n",
    "    def stop(self):\n",
    "        pass\n",
    "\n",
    "# Concrete classes that inherit from Vehicle\n",
    "class Car(Vehicle):\n",
    "    def start(self):\n",
    "        return f\"{self.name} starts the engine.\"\n",
    "\n",
    "    def stop(self):\n",
    "        return f\"{self.name} stops the engine.\"\n",
    "\n",
    "class Bicycle(Vehicle):\n",
    "    def start(self):\n",
    "        return f\"{self.name} starts pedaling.\"\n",
    "\n",
    "    def stop(self):\n",
    "        return f\"{self.name} stops pedaling.\"\n",
    "\n",
    "# Using abstraction to work with vehicles\n",
    "my_car = Car(\"My Car\")\n",
    "my_bicycle = Bicycle(\"My Bicycle\")\n",
    "\n",
    "vehicles = [my_car, my_bicycle]\n",
    "\n",
    "for vehicle in vehicles:\n",
    "    print(vehicle.start())\n",
    "    print(vehicle.stop())\n"
   ]
  },
  {
   "cell_type": "markdown",
   "id": "e7bcaf08-071e-49d8-9a28-e85ab5d23407",
   "metadata": {},
   "source": [
    "Q2. Differentiate between Abstraction and Encapsulation. Explain with an example."
   ]
  },
  {
   "cell_type": "markdown",
   "id": "55220ec0-624e-45ae-a0d6-99807aa80328",
   "metadata": {},
   "source": [
    "Abstraction"
   ]
  },
  {
   "cell_type": "raw",
   "id": "a1921ef9-b223-45b5-9a68-6b5fcdbe9c91",
   "metadata": {},
   "source": [
    "Abstraction focuses on simplifying complex systems by modeling classes based on their essential characteristics while hiding unnecessary details. It emphasizes \"what\" an object does rather than \"how\" it does it."
   ]
  },
  {
   "cell_type": "raw",
   "id": "d3186927-87df-481f-ab5e-bb443cabec2d",
   "metadata": {},
   "source": [
    "Encapsulation"
   ]
  },
  {
   "cell_type": "raw",
   "id": "4ebfdf22-2ca9-4635-a6d8-cf334b327153",
   "metadata": {},
   "source": [
    "Encapsulation is a mechanism that bundles data (attributes or properties) and the methods (functions) that operate on that data into a single unit called a class. It provides data hiding and access control, emphasizing the protection of the object's internal state."
   ]
  },
  {
   "cell_type": "code",
   "execution_count": 5,
   "id": "65bcfe0c-a54a-45ca-b367-543b687eb337",
   "metadata": {},
   "outputs": [
    {
     "name": "stdout",
     "output_type": "stream",
     "text": [
      "Account Number: 12345\n",
      "Balance: 1000\n",
      "New Balance after deposit: 1500\n",
      "New Balance after withdrawal: 1300\n"
     ]
    }
   ],
   "source": [
    "class BankAccount:\n",
    "    def __init__(self, account_number, balance):\n",
    "        self.__account_number = account_number  # Private attribute\n",
    "        self.__balance = balance                # Private attribute\n",
    "\n",
    "    # Public methods to access and modify private attributes\n",
    "    def get_account_number(self):\n",
    "        return self.__account_number\n",
    "\n",
    "    def get_balance(self):\n",
    "        return self.__balance\n",
    "\n",
    "    def deposit(self, amount):\n",
    "        if amount > 0:\n",
    "            self.__balance += amount\n",
    "\n",
    "    def withdraw(self, amount):\n",
    "        if amount > 0 and amount <= self.__balance:\n",
    "            self.__balance -= amount\n",
    "\n",
    "# Creating a BankAccount object\n",
    "account = BankAccount(\"12345\", 1000)\n",
    "\n",
    "# Accessing and modifying private attributes using public methods\n",
    "print(\"Account Number:\", account.get_account_number())\n",
    "print(\"Balance:\", account.get_balance())\n",
    "\n",
    "account.deposit(500)\n",
    "print(\"New Balance after deposit:\", account.get_balance())\n",
    "\n",
    "account.withdraw(200)\n",
    "print(\"New Balance after withdrawal:\", account.get_balance())\n"
   ]
  },
  {
   "cell_type": "raw",
   "id": "0a11fd59-1f58-49fe-98dd-fcf51068a6a5",
   "metadata": {},
   "source": [
    "What is abc module in python? Why is it used?"
   ]
  },
  {
   "cell_type": "raw",
   "id": "46b69f90-52c8-4683-8793-c06948134c7b",
   "metadata": {},
   "source": [
    "Defining Abstract Classes: You can use the abc module to define abstract classes. An abstract class is a class that cannot be instantiated directly but serves as a blueprint for other classes (concrete subclasses) to inherit from. Abstract classes can contain abstract methods that must be implemented by any concrete subclass."
   ]
  },
  {
   "cell_type": "code",
   "execution_count": null,
   "id": "2e9a8564-d075-435d-8ed6-43ef91f0d1b0",
   "metadata": {},
   "outputs": [],
   "source": [
    "from abc import ABC, abstractmethod\n",
    "\n",
    "# Define an abstract base class called Shape\n",
    "class Shape(ABC):\n",
    "    @abstractmethod\n",
    "    def area(self):\n",
    "        pass\n",
    "\n",
    "# Concrete subclass Circle that inherits from Shape\n",
    "class Circle(Shape):\n",
    "    def __init__(self, radius):\n",
    "        self.radius = radius\n",
    "\n",
    "    def area(self):\n",
    "        return 3.14 * self.radius * self.radius\n",
    "\n",
    "# Concrete subclass Rectangle that inherits from Shape\n",
    "class Rectangle(Shape):\n",
    "    def __init__(self, length, width):\n",
    "        self.length = length\n",
    "        self.width = width\n",
    "\n",
    "    def area(self):\n",
    "        return self.length * self.width\n",
    "\n",
    "# Using polymorphism with Shape objects\n",
    "circle = Circle(5)\n",
    "rectangle = Rectangle(4, 6)\n",
    "\n",
    "shapes = [circle, rectangle]\n",
    "\n",
    "for shape in shapes:\n",
    "    print(f\"Area of {shape.__class__.__name__}: {shape.area()}\")\n"
   ]
  },
  {
   "cell_type": "raw",
   "id": "d110377c-8cdc-4985-97b1-a6bc76e76301",
   "metadata": {},
   "source": [
    "Q4. How can we achieve data abstraction?"
   ]
  },
  {
   "cell_type": "raw",
   "id": "e9dece9b-520b-4ebc-8c01-2f3a2d6ea476",
   "metadata": {},
   "source": [
    "data abstraction"
   ]
  },
  {
   "cell_type": "raw",
   "id": "133164a7-74d2-47ab-99ac-7f839e692340",
   "metadata": {},
   "source": [
    "Create classes to represent abstract data types or entities. These classes encapsulate the data and behaviors related to a particular concept. The attributes (data) and methods (functions) within the class should be defined based on the abstraction level you want to achieve."
   ]
  },
  {
   "cell_type": "code",
   "execution_count": null,
   "id": "19278f62-17bb-49f3-814f-f1b12d33fc59",
   "metadata": {},
   "outputs": [],
   "source": [
    "class BankAccount:\n",
    "    def __init__(self, account_number, balance):\n",
    "        self._account_number = account_number  # Protected attribute\n",
    "        self._balance = balance                # Protected attribute\n",
    "\n",
    "    def get_balance(self):\n",
    "        return self._balance\n",
    "\n",
    "    def deposit(self, amount):\n",
    "        if amount > 0:\n",
    "            self._balance += amount\n",
    "\n",
    "    def withdraw(self, amount):\n",
    "        if 0 < amount <= self._balance:\n",
    "            self._balance -= amount\n",
    "\n",
    "# Creating a BankAccount object\n",
    "account = BankAccount(\"12345\", 1000)\n",
    "\n",
    "# Accessing and modifying protected attributes using public methods\n",
    "print(\"Balance:\", account.get_balance())\n",
    "\n",
    "account.deposit(500)\n",
    "print(\"New Balance after deposit:\", account.get_balance())\n",
    "\n",
    "account.withdraw(200)\n",
    "print(\"New Balance after withdrawal:\", account.get_balance())\n"
   ]
  },
  {
   "cell_type": "raw",
   "id": "c99ce1dc-dca4-47b8-895e-9a6c8df0fbcb",
   "metadata": {},
   "source": [
    "Q5. Can we create an instance of an abstract class? Explain your answer."
   ]
  },
  {
   "cell_type": "raw",
   "id": "e9a31396-967e-49ee-845a-d5995be35047",
   "metadata": {},
   "source": [
    "Abstract classes often contain one or more abstract methods (methods without a body) that are meant to be overridden by concrete subclasses. These abstract methods lack a specific implementation in the abstract class, making it incomplete and unsuitable for instantiation."
   ]
  }
 ],
 "metadata": {
  "kernelspec": {
   "display_name": "Python 3 (ipykernel)",
   "language": "python",
   "name": "python3"
  },
  "language_info": {
   "codemirror_mode": {
    "name": "ipython",
    "version": 3
   },
   "file_extension": ".py",
   "mimetype": "text/x-python",
   "name": "python",
   "nbconvert_exporter": "python",
   "pygments_lexer": "ipython3",
   "version": "3.10.8"
  }
 },
 "nbformat": 4,
 "nbformat_minor": 5
}
