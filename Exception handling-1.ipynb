{
 "cells": [
  {
   "cell_type": "raw",
   "id": "80ae8f7a-ae6f-4d01-b272-c4f42a932a36",
   "metadata": {},
   "source": [
    "Q1"
   ]
  },
  {
   "cell_type": "raw",
   "id": "9bd28868-7cfc-4a8d-bff6-4febaacf155e",
   "metadata": {},
   "source": [
    "Exceptions:\n",
    "\n",
    "Exceptions are runtime errors that occur during the execution of a program.\n",
    "They can be caused by various factors, such as incorrect user input, file I/O errors, divide-by-zero operations, and more.\n",
    "Exceptions are raised as objects, which contain information about the error, such as its type and possibly additional details.\n",
    "You can catch and handle exceptions using try-except blocks to gracefully recover from errors and continue program execution."
   ]
  },
  {
   "cell_type": "raw",
   "id": "708de81d-0593-46ce-afcc-0225bf356b38",
   "metadata": {},
   "source": [
    "Syntax Errors:\n",
    "\n",
    "Syntax errors occur during the parsing of your code before it is executed.\n",
    "They are caused by incorrect syntax, such as missing colons, parentheses, or invalid variable names.\n",
    "Syntax errors prevent the program from running and must be fixed in the code before execution."
   ]
  },
  {
   "cell_type": "raw",
   "id": "51861d3a-8680-43dc-9efc-a1ee4cf29cee",
   "metadata": {},
   "source": [
    "q2"
   ]
  },
  {
   "cell_type": "raw",
   "id": "dab1c45b-9a44-4fa9-b0b2-f1385ee12567",
   "metadata": {},
   "source": [
    "When an exception is not handled in a Python program, it leads to the program terminating abruptly, and an error message is displayed."
   ]
  },
  {
   "cell_type": "code",
   "execution_count": 2,
   "id": "5cfe5a52-e909-437d-a1ef-0921d46c353d",
   "metadata": {},
   "outputs": [
    {
     "name": "stdout",
     "output_type": "stream",
     "text": [
      "Error: [Errno 2] No such file or directory: 'nonexistent_file.txt'\n"
     ]
    }
   ],
   "source": [
    "try:\n",
    "    file = open(\"nonexistent_file.txt\", \"r\")\n",
    "    content = file.read()\n",
    "    file.close()\n",
    "    print(\"File content:\", content)\n",
    "except FileNotFoundError as e:\n",
    "    print(f\"Error: {e}\")\n"
   ]
  },
  {
   "cell_type": "raw",
   "id": "cc59c01f-5329-4d4f-a6cd-fcf36ee46b3c",
   "metadata": {},
   "source": [
    "q3"
   ]
  },
  {
   "cell_type": "raw",
   "id": "9fcd2bac-1f1a-4ef6-b4a8-8d9c1ecb6851",
   "metadata": {},
   "source": [
    "use the try, except, else, and finally statements to catch and handle exceptions. These statements are part of a structure known as a \"try-except\" block, which allows you to write code that gracefully handles exceptions."
   ]
  },
  {
   "cell_type": "raw",
   "id": "0f3c4800-63c5-4db6-bdbf-3bb0da3fcabc",
   "metadata": {},
   "source": [
    "q4"
   ]
  },
  {
   "cell_type": "raw",
   "id": "3a5d29e1-830e-472b-8f65-c5fa7a0a835c",
   "metadata": {},
   "source": [
    "using try, except, else, and finally blocks together. Let's provide an example:"
   ]
  },
  {
   "cell_type": "code",
   "execution_count": 3,
   "id": "599f1499-da31-41d1-8953-e388e02ea05b",
   "metadata": {},
   "outputs": [
    {
     "name": "stdout",
     "output_type": "stream",
     "text": [
      "Error: division by zero\n",
      "Finally block executed.\n",
      "The result of 12 / 3 is 4.0\n",
      "Finally block executed.\n"
     ]
    }
   ],
   "source": [
    "def divide(a, b):\n",
    "    try:\n",
    "        result = a / b\n",
    "    except ZeroDivisionError as e:\n",
    "        print(f\"Error: {e}\")\n",
    "    else:\n",
    "        print(f\"The result of {a} / {b} is {result}\")\n",
    "    finally:\n",
    "        print(\"Finally block executed.\")\n",
    "\n",
    "\n",
    "divide(10, 0)\n",
    "\n",
    "\n",
    "divide(12, 3)\n"
   ]
  },
  {
   "cell_type": "raw",
   "id": "38f63306-9b0a-4cd2-8f28-bd6eeb8f51aa",
   "metadata": {},
   "source": [
    "q5"
   ]
  },
  {
   "cell_type": "raw",
   "id": "e18b04d9-7d4c-4e3c-a9f0-d2e3d9e94abf",
   "metadata": {},
   "source": [
    "Python are user-defined exception classes that extend the built-in exception classes like Exception or BaseException. These custom exceptions allow you to define your own specific types of exceptions to handle unique error conditions in your code."
   ]
  },
  {
   "cell_type": "code",
   "execution_count": 4,
   "id": "9e3690c4-4ce3-4d3e-a5f4-9b3cb8716dc5",
   "metadata": {},
   "outputs": [
    {
     "name": "stdout",
     "output_type": "stream",
     "text": [
      "Error: Insufficient funds. Account balance: 100, Withdrawal amount: 150\n"
     ]
    }
   ],
   "source": [
    "class InsufficientFundsError(Exception):\n",
    "    def __init__(self, account_balance, withdrawal_amount):\n",
    "        self.account_balance = account_balance\n",
    "        self.withdrawal_amount = withdrawal_amount\n",
    "        super().__init__(f\"Insufficient funds. Account balance: {account_balance}, Withdrawal amount: {withdrawal_amount}\")\n",
    "\n",
    "def withdraw(account_balance, withdrawal_amount):\n",
    "    if account_balance < withdrawal_amount:\n",
    "        raise InsufficientFundsError(account_balance, withdrawal_amount)\n",
    "  \n",
    "    return account_balance - withdrawal_amount\n",
    "\n",
    "try:\n",
    "    balance = 100\n",
    "    withdrawal_amount = 150\n",
    "    new_balance = withdraw(balance, withdrawal_amount)\n",
    "except InsufficientFundsError as e:\n",
    "    print(f\"Error: {e}\")\n",
    "else:\n",
    "    print(f\"Withdrawal successful. New balance: {new_balance}\")\n"
   ]
  },
  {
   "cell_type": "raw",
   "id": "a82e567b-c187-4106-9322-450a9e93edd2",
   "metadata": {},
   "source": [
    "q6"
   ]
  },
  {
   "cell_type": "code",
   "execution_count": 5,
   "id": "e8043354-71a6-4bac-9fc0-4ed6884d6633",
   "metadata": {},
   "outputs": [
    {
     "name": "stdout",
     "output_type": "stream",
     "text": [
      "Custom Exception: Division by zero is not allowed\n"
     ]
    }
   ],
   "source": [
    "\n",
    "class CustomException(Exception):\n",
    "    def __init__(self, message):\n",
    "        super().__init__(message)\n",
    "\n",
    "\n",
    "def divide(a, b):\n",
    "    if b == 0:\n",
    "        raise CustomException(\"Division by zero is not allowed\")\n",
    "    return a / b\n",
    "\n",
    "\n",
    "try:\n",
    "    result = divide(10, 0)\n",
    "except CustomException as e:\n",
    "    print(f\"Custom Exception: {e}\")\n",
    "else:\n",
    "    print(f\"Result: {result}\")\n"
   ]
  },
  {
   "cell_type": "code",
   "execution_count": null,
   "id": "6a99ac79-4bb4-47b5-ad3d-4f37b3ece848",
   "metadata": {},
   "outputs": [],
   "source": []
  }
 ],
 "metadata": {
  "kernelspec": {
   "display_name": "Python 3 (ipykernel)",
   "language": "python",
   "name": "python3"
  },
  "language_info": {
   "codemirror_mode": {
    "name": "ipython",
    "version": 3
   },
   "file_extension": ".py",
   "mimetype": "text/x-python",
   "name": "python",
   "nbconvert_exporter": "python",
   "pygments_lexer": "ipython3",
   "version": "3.10.8"
  }
 },
 "nbformat": 4,
 "nbformat_minor": 5
}
