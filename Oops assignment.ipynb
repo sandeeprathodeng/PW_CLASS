{
 "cells": [
  {
   "cell_type": "code",
   "execution_count": null,
   "id": "9365f48c-ce5a-424f-ac8c-ab82955215cc",
   "metadata": {},
   "outputs": [],
   "source": [
    "Q1. Explain Class and Object with respect to Object-Oriented Programming. Give a suitable example.\n",
    "Q2. Name the four pillars of OOPs.\n",
    "Q3. Explain why the __init__() function is used. Give a suitable example.\n",
    "Q4. Why self is used in OOPs?\n",
    "Q5. What is inheritance? Give an example for each type of inheritance."
   ]
  },
  {
   "cell_type": "raw",
   "id": "bda5b9f3-c8e8-4fa5-ae03-8f11de16cd6d",
   "metadata": {},
   "source": [
    "Q1. Explain Class and Object with respect to Object-Oriented Programming. Give a suitable example."
   ]
  },
  {
   "cell_type": "markdown",
   "id": "a6708a30-f148-47f2-9a3e-5d697ba8bd66",
   "metadata": {},
   "source": [
    "Class:\n",
    "A class is a blueprint or template for creating objects in OOP. It defines a set of attributes \n",
    "(also known as properties or fields) and methods\n",
    "(functions) that the objects created from this class will have."
   ]
  },
  {
   "cell_type": "markdown",
   "id": "c486fe79-a823-4e33-a912-705a1367f343",
   "metadata": {},
   "source": [
    "Object:\n",
    "An object is an instance of a class. \n",
    "It's a concrete, real-world entity created based on the class's blueprint. \n",
    "Objects have attributes and can perform actions through the methods defined in their class."
   ]
  },
  {
   "cell_type": "code",
   "execution_count": 5,
   "id": "8503ab5f-d2c7-4a20-8979-bce711bf8c00",
   "metadata": {},
   "outputs": [
    {
     "name": "stdout",
     "output_type": "stream",
     "text": [
      "Hello, my name is Alice and I am 30 years old.\n",
      "Hello, my name is Bob and I am 25 years old.\n"
     ]
    }
   ],
   "source": [
    "class Person:\n",
    "    def __init__(self, name, age):\n",
    "        self.name = name\n",
    "        self.age = age\n",
    "\n",
    "    def greet(self):\n",
    "        print(f\"Hello, my name is {self.name} and I am {self.age} years old.\")\n",
    "\n",
    "person1 = Person(\"Alice\", 30)\n",
    "person2 = Person(\"Bob\", 25)\n",
    "\n",
    "\n",
    "person1.greet()  \n",
    "person2.greet()  "
   ]
  },
  {
   "cell_type": "markdown",
   "id": "b00a92fe-af53-4773-8b2d-9fc47905788e",
   "metadata": {},
   "source": [
    "Q2. Name the four pillars of OOPs."
   ]
  },
  {
   "cell_type": "raw",
   "id": "0a4a5bc2-19ef-4c93-8c6e-ad87af747755",
   "metadata": {},
   "source": [
    "Abstraction\n",
    "Inheritance\n",
    "Polymorphism\n",
    "Encapsulation"
   ]
  },
  {
   "cell_type": "markdown",
   "id": "8d62735f-0e2f-479c-ba6b-6a9f7fa488d7",
   "metadata": {},
   "source": [
    "Q3. Explain why the __init__() function is used. Give a suitable example."
   ]
  },
  {
   "cell_type": "markdown",
   "id": "6f82e846-12ac-4fab-9ea2-3d52c1852845",
   "metadata": {},
   "source": [
    "The __init__() function, also known as the constructor method"
   ]
  },
  {
   "cell_type": "code",
   "execution_count": 6,
   "id": "416a8146-2908-45b4-bb9f-1b3f32207e44",
   "metadata": {},
   "outputs": [
    {
     "name": "stdout",
     "output_type": "stream",
     "text": [
      "Buddy is 3 years old.\n",
      "Max barks!\n"
     ]
    }
   ],
   "source": [
    "class Dog:\n",
    "   \n",
    "    def __init__(self, name, age):\n",
    "        self.name = name  \n",
    "        self.age = age    \n",
    "\n",
    "    def bark(self):\n",
    "        print(f\"{self.name} barks!\")\n",
    "\n",
    "\n",
    "dog1 = Dog(\"Buddy\", 3)\n",
    "dog2 = Dog(\"Max\", 5)\n",
    "\n",
    "\n",
    "print(f\"{dog1.name} is {dog1.age} years old.\")\n",
    "dog2.bark()\n"
   ]
  },
  {
   "cell_type": "markdown",
   "id": "896347c5-6625-45c9-9a57-940367d9ab46",
   "metadata": {},
   "source": [
    "Q4. Why self is used in OOPs?"
   ]
  },
  {
   "cell_type": "markdown",
   "id": "373946dd-f7c9-4545-be02-9b94223d2bd1",
   "metadata": {},
   "source": [
    "self is used as a convention in many programming languages, \n",
    "including Python, to refer to the instance of a class within the class itself. It is a reference to the current \n",
    "object that is being operated on. The use of self serves several important purposes:"
   ]
  },
  {
   "cell_type": "markdown",
   "id": "e8241027-0054-4224-8e91-9e5e94c9816f",
   "metadata": {},
   "source": [
    "Q5. What is inheritance? Give an example for each type of inheritance."
   ]
  },
  {
   "cell_type": "markdown",
   "id": "d32c21ed-7621-46d7-b92f-b98b98d73c81",
   "metadata": {},
   "source": [
    "Inheritance is one of the four fundamental pillars of Object-Oriented Programming (OOP) and is a mechanism that allows a new class (called a subclass or derived class) to inherit properties and behaviors (attributes and methods) from an existing class (called a superclass or base class). "
   ]
  },
  {
   "cell_type": "code",
   "execution_count": null,
   "id": "ed54b2d3-d242-4fb0-9b26-2081367d42d4",
   "metadata": {},
   "outputs": [],
   "source": [
    "Single Inheritance:"
   ]
  }
 ],
 "metadata": {
  "kernelspec": {
   "display_name": "Python 3 (ipykernel)",
   "language": "python",
   "name": "python3"
  },
  "language_info": {
   "codemirror_mode": {
    "name": "ipython",
    "version": 3
   },
   "file_extension": ".py",
   "mimetype": "text/x-python",
   "name": "python",
   "nbconvert_exporter": "python",
   "pygments_lexer": "ipython3",
   "version": "3.10.8"
  }
 },
 "nbformat": 4,
 "nbformat_minor": 5
}
