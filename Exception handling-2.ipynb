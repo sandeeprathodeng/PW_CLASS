{
 "cells": [
  {
   "cell_type": "raw",
   "id": "4a0a5dc2-86fa-4dc3-b414-39fec6800b33",
   "metadata": {},
   "source": [
    "Q1. Explain why we have to use the Exception class while creating a Custom Exception."
   ]
  },
  {
   "cell_type": "code",
   "execution_count": 1,
   "id": "a3c53c95-c548-4743-8734-62ec0109eda1",
   "metadata": {},
   "outputs": [],
   "source": [
    "class MyCustomException(Exception):\n",
    "    def __init__(self, message=\"A custom exception occurred\"):\n",
    "        super().__init__(message)\n"
   ]
  },
  {
   "cell_type": "raw",
   "id": "73fff17a-9f4a-4015-9f7e-a4c47fce6192",
   "metadata": {},
   "source": [
    "vQ2. Write a python program to print Python Exception Hierarchy."
   ]
  },
  {
   "cell_type": "code",
   "execution_count": null,
   "id": "8a75924e-a013-4114-90f9-e8f91b39cfd4",
   "metadata": {},
   "outputs": [],
   "source": [
    "def print_exception_hierarchy(base_exception=Exception, level=0):\n",
    "  \n",
    "    indent = \"  \" * level\n",
    "    print(f\"{indent}{base_exception.__name__}\")\n",
    "    \n",
    "    \n",
    "    subclasses = base_exception.__subclasses__()\n",
    "\n",
    "    \n",
    "    for subclass in subclasses:\n",
    "        print_exception_hierarchy(subclass, level + 1)\n",
    "\n",
    "if __name__ == \"__main__\":\n",
    "    print(\"Python Exception Hierarchy:\")\n",
    "    print_exception_hierarchy()\n"
   ]
  },
  {
   "cell_type": "raw",
   "id": "83d33ef0-2795-4fc8-9a5a-cea7887707f5",
   "metadata": {},
   "source": [
    "Q3. What errors are defined in the ArithmeticError class? Explain any two with an example."
   ]
  },
  {
   "cell_type": "raw",
   "id": "36039929-7389-4672-b101-5bda35daaf30",
   "metadata": {},
   "source": [
    "The ArithmeticError class is a base class for exceptions that are raised for various arithmetic-related errors in Python. It itself doesn't define specific errors but serves as a parent class for more specific arithmetic-related exceptions. Two common exceptions derived from ArithmeticError are:"
   ]
  },
  {
   "cell_type": "code",
   "execution_count": 3,
   "id": "e906b415-dfa5-4c87-92f1-58766dc4e839",
   "metadata": {},
   "outputs": [
    {
     "data": {
      "text/plain": [
       "ZeroDivisionError"
      ]
     },
     "execution_count": 3,
     "metadata": {},
     "output_type": "execute_result"
    }
   ],
   "source": [
    "ZeroDivisionError"
   ]
  },
  {
   "cell_type": "code",
   "execution_count": 4,
   "id": "9d564ef4-a70f-4cf7-aa99-ae54db77788b",
   "metadata": {},
   "outputs": [
    {
     "name": "stdout",
     "output_type": "stream",
     "text": [
      "Error: division by zero\n"
     ]
    }
   ],
   "source": [
    "dividend = 10\n",
    "divisor = 0\n",
    "\n",
    "try:\n",
    "    result = dividend / divisor\n",
    "except ZeroDivisionError as e:\n",
    "    print(f\"Error: {e}\")\n"
   ]
  },
  {
   "cell_type": "raw",
   "id": "e6acd5b0-c6ed-42b3-898e-e46cd82967ee",
   "metadata": {},
   "source": [
    "OverflowError"
   ]
  },
  {
   "cell_type": "code",
   "execution_count": 5,
   "id": "3f95eaac-dbca-46ea-a77a-93fbbfe736f2",
   "metadata": {},
   "outputs": [],
   "source": [
    "import sys\n",
    "\n",
    "\n",
    "max_int = sys.maxsize\n",
    "\n",
    "try:\n",
    "    result = max_int + 1\n",
    "except OverflowError as e:\n",
    "    print(f\"Error: {e}\")\n"
   ]
  },
  {
   "cell_type": "raw",
   "id": "b5729cbe-0a8e-465b-ac25-1574b9d80b30",
   "metadata": {},
   "source": [
    "Q4. Why LookupError class is used? Explain with an example KeyError and IndexError."
   ]
  },
  {
   "cell_type": "raw",
   "id": "5e9d4e57-e088-434f-81a9-57504299354c",
   "metadata": {},
   "source": [
    "KeyError"
   ]
  },
  {
   "cell_type": "code",
   "execution_count": 6,
   "id": "85703031-1321-4705-849c-77ccc838419a",
   "metadata": {},
   "outputs": [
    {
     "name": "stdout",
     "output_type": "stream",
     "text": [
      "Error: 'address'\n"
     ]
    }
   ],
   "source": [
    "my_dict = {\"name\": \"Alice\", \"age\": 30}\n",
    "\n",
    "try:\n",
    "    value = my_dict[\"address\"]\n",
    "except KeyError as e:\n",
    "    print(f\"Error: {e}\")\n"
   ]
  },
  {
   "cell_type": "raw",
   "id": "8e4807fb-9a2a-4d81-9078-971e7bc86bb1",
   "metadata": {},
   "source": [
    "IndexError:"
   ]
  },
  {
   "cell_type": "code",
   "execution_count": 7,
   "id": "748b08ad-2368-431b-9e4f-5e5086ee44b0",
   "metadata": {},
   "outputs": [
    {
     "name": "stdout",
     "output_type": "stream",
     "text": [
      "Error: list index out of range\n"
     ]
    }
   ],
   "source": [
    "my_list = [1, 2, 3]\n",
    "\n",
    "try:\n",
    "    value = my_list[5]\n",
    "except IndexError as e:\n",
    "    print(f\"Error: {e}\")\n"
   ]
  },
  {
   "cell_type": "raw",
   "id": "8bd421cb-037a-40f1-9aa2-7a63c65d3ada",
   "metadata": {},
   "source": [
    "Q5. Explain ImportError. What is ModuleNotFoundError?"
   ]
  },
  {
   "cell_type": "raw",
   "id": "8e711d52-a7c2-4a2a-bbeb-cb1808fe7a5c",
   "metadata": {},
   "source": [
    "ImportError:\n",
    "\n",
    "ImportError is a general exception that is raised when there is a problem with importing a module or a name from a module. It can encompass various import-related issues, such as syntax errors in the imported module, circular imports, missing modules, and more."
   ]
  },
  {
   "cell_type": "code",
   "execution_count": 10,
   "id": "664ea556-99d1-4a30-ae36-ea339ce095d8",
   "metadata": {},
   "outputs": [
    {
     "name": "stdout",
     "output_type": "stream",
     "text": [
      "Error: No module named 'non_existent_module'\n"
     ]
    }
   ],
   "source": [
    "try:\n",
    "    import non_existent_module\n",
    "except ImportError as e:\n",
    "    print(f\"Error: {e}\")\n"
   ]
  },
  {
   "cell_type": "raw",
   "id": "149b87c4-d7f2-432e-adae-c2856130f8bf",
   "metadata": {},
   "source": [
    "ModuleNotFoundError:\n",
    "\n",
    "ModuleNotFoundError is a more specific exception introduced in Python 3.6. It is raised when Python is unable to locate and import a module that you are trying to use. It is more precise about the reason for the import failure compared to ImportError.\n",
    "\n",
    "Example 1: Importing a non-existent module:"
   ]
  },
  {
   "cell_type": "code",
   "execution_count": 11,
   "id": "2001cd0e-74af-48e7-a88e-791a15353c37",
   "metadata": {},
   "outputs": [
    {
     "name": "stdout",
     "output_type": "stream",
     "text": [
      "Error: No module named 'non_existent_module'\n"
     ]
    }
   ],
   "source": [
    "try:\n",
    "    import non_existent_module\n",
    "except ModuleNotFoundError as e:\n",
    "    print(f\"Error: {e}\")\n"
   ]
  },
  {
   "cell_type": "raw",
   "id": "944409f1-8923-434f-ab2c-a13ab910e58b",
   "metadata": {},
   "source": [
    "Q6. List down some best practices for exception handling in python."
   ]
  }
 ],
 "metadata": {
  "kernelspec": {
   "display_name": "Python 3 (ipykernel)",
   "language": "python",
   "name": "python3"
  },
  "language_info": {
   "codemirror_mode": {
    "name": "ipython",
    "version": 3
   },
   "file_extension": ".py",
   "mimetype": "text/x-python",
   "name": "python",
   "nbconvert_exporter": "python",
   "pygments_lexer": "ipython3",
   "version": "3.10.8"
  }
 },
 "nbformat": 4,
 "nbformat_minor": 5
}
