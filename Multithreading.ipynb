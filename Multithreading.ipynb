{
 "cells": [
  {
   "cell_type": "raw",
   "id": "e26c5bde-3907-4ef0-8c3c-11b1d617ad06",
   "metadata": {},
   "source": [
    "). hat is multithreading in python? hy is it used? Name the module used to handle threads in python"
   ]
  },
  {
   "cell_type": "raw",
   "id": "10565245-102b-415a-ae39-2a56069154cf",
   "metadata": {},
   "source": [
    "Multithreading is used for various purposes in Python and other programming languages. Some common reasons to use multithreading include:"
   ]
  },
  {
   "cell_type": "raw",
   "id": "2ff520c9-5a4d-4769-8d3e-3ef6fdeb5c4c",
   "metadata": {},
   "source": [
    "Concurrency\n",
    "Parallelism\n",
    "Responsiveness\n",
    "Resource Sharing:\n",
    "Task Parallelism: "
   ]
  },
  {
   "cell_type": "raw",
   "id": "a83075be-9488-468c-822e-be07ec5b2b40",
   "metadata": {},
   "source": [
    "The threading module in Python is used for creating and managing threads in a multithreaded application. It provides a way to work with threads, allowing you to create concurrent execution in your program. Here's an explanation of the functions you mentioned:"
   ]
  },
  {
   "cell_type": "raw",
   "id": "32b8d06c-a10c-411b-976a-df3278a8327a",
   "metadata": {},
   "source": [
    "activeCount"
   ]
  },
  {
   "cell_type": "code",
   "execution_count": 2,
   "id": "89b540dd-549e-4819-bb73-69506dcddc79",
   "metadata": {},
   "outputs": [
    {
     "name": "stdout",
     "output_type": "stream",
     "text": [
      "Number of active threads: 8\n"
     ]
    },
    {
     "name": "stderr",
     "output_type": "stream",
     "text": [
      "/tmp/ipykernel_1073/2061504908.py:13: DeprecationWarning: activeCount() is deprecated, use active_count() instead\n",
      "  num_active_threads = threading.activeCount()\n"
     ]
    }
   ],
   "source": [
    "import threading\n",
    "\n",
    "def my_function():\n",
    "    pass\n",
    "\n",
    "thread1 = threading.Thread(target=my_function)\n",
    "thread2 = threading.Thread(target=my_function)\n",
    "\n",
    "thread1.start()\n",
    "thread2.start()\n",
    "\n",
    "\n",
    "num_active_threads = threading.activeCount()\n",
    "print(f\"Number of active threads: {num_active_threads}\")\n"
   ]
  },
  {
   "cell_type": "raw",
   "id": "518f28f2-f002-46fa-bcfd-6bf6c03d62b3",
   "metadata": {},
   "source": [
    "enumerate() Function:"
   ]
  },
  {
   "cell_type": "code",
   "execution_count": 3,
   "id": "5d7964ce-088e-4734-b88b-010a63424646",
   "metadata": {},
   "outputs": [
    {
     "name": "stdout",
     "output_type": "stream",
     "text": [
      "Thread name: Thread 1\n",
      "Thread name: Thread 2\n"
     ]
    },
    {
     "name": "stderr",
     "output_type": "stream",
     "text": [
      "/tmp/ipykernel_1073/3096662299.py:4: DeprecationWarning: currentThread() is deprecated, use current_thread() instead\n",
      "  current_thread = threading.currentThread()\n"
     ]
    }
   ],
   "source": [
    "import threading\n",
    "\n",
    "def my_function():\n",
    "    current_thread = threading.currentThread()\n",
    "    print(f\"Thread name: {current_thread.name}\")\n",
    "\n",
    "thread1 = threading.Thread(target=my_function, name=\"Thread 1\")\n",
    "thread2 = threading.Thread(target=my_function, name=\"Thread 2\")\n",
    "\n",
    "thread1.start()\n",
    "thread2.start()\n"
   ]
  },
  {
   "cell_type": "raw",
   "id": "d4f1fc0a-99a9-4e4e-8436-88a82e7e03b5",
   "metadata": {},
   "source": [
    "enumerate() Function:"
   ]
  },
  {
   "cell_type": "code",
   "execution_count": 4,
   "id": "068c88cd-8713-4281-a368-0fd37bddbe8e",
   "metadata": {},
   "outputs": [
    {
     "name": "stdout",
     "output_type": "stream",
     "text": [
      "Thread name: MainThread\n",
      "Thread name: IOPub\n",
      "Thread name: Heartbeat\n",
      "Thread name: Thread-3 (_watch_pipe_fd)\n",
      "Thread name: Thread-4 (_watch_pipe_fd)\n",
      "Thread name: Control\n",
      "Thread name: IPythonHistorySavingThread\n",
      "Thread name: Thread-2\n"
     ]
    }
   ],
   "source": [
    "import threading\n",
    "\n",
    "def my_function():\n",
    "    pass\n",
    "\n",
    "\n",
    "thread1 = threading.Thread(target=my_function)\n",
    "thread2 = threading.Thread(target=my_function)\n",
    "\n",
    "thread1.start()\n",
    "thread2.start()\n",
    "\n",
    "\n",
    "active_threads = threading.enumerate()\n",
    "for thread in active_threads:\n",
    "    print(f\"Thread name: {thread.name}\")\n"
   ]
  },
  {
   "cell_type": "raw",
   "id": "50cbfc8f-f711-4a93-bfab-5a4ef1b8e2d7",
   "metadata": {},
   "source": [
    "3. Explain the following functions\n",
    "( run\n",
    " start\n",
    " join\n",
    "' isAlive)"
   ]
  },
  {
   "cell_type": "raw",
   "id": "0d485f7c-877b-4c26-8d86-0c10bef82f90",
   "metadata": {},
   "source": [
    "start() Method:\n",
    "\n",
    "The start() method is used to initiate the execution of a thread. It spawns a new thread and begins executing the run() method of the thread's target.\n",
    "You should call start() to kick off the execution of a thread instead of calling run() directly. Calling run() directly won't create a new thread; it will execute in the context of the current thread."
   ]
  },
  {
   "cell_type": "raw",
   "id": "4bc9c70b-4876-4b81-b9c1-422f52a0963c",
   "metadata": {},
   "source": [
    "join() Method:\n",
    "\n",
    "The join() method is used to wait for a thread to finish its execution before continuing with the rest of the program.\n",
    "When you call join() on a thread, the program will pause and wait until that thread has completed.\n",
    "This is especially useful when you want to coordinate the execution of multiple threads and ensure that certain threads have finished before proceeding."
   ]
  },
  {
   "cell_type": "raw",
   "id": "f2c21f56-4d22-4c05-a204-c6147faf272f",
   "metadata": {},
   "source": [
    "isAlive Attribute:\n",
    "\n",
    "The isAlive attribute is used to check if a thread is currently executing or alive.\n",
    "It returns True if the thread is actively running, and False if it has completed execution or has not started yet.\n",
    "You can use this attribute to dynamically check the status of a thread."
   ]
  },
  {
   "cell_type": "raw",
   "id": "c001637d-3af8-4b43-ab1f-4edcfe4571b5",
   "metadata": {},
   "source": [
    "4. rite a python program to create two threads. Thread one must print the list of squares and thread\n",
    "two must print the list of cubes"
   ]
  },
  {
   "cell_type": "code",
   "execution_count": 5,
   "id": "27f8f52d-d212-44c9-9505-2aa645afc0e0",
   "metadata": {},
   "outputs": [
    {
     "name": "stdout",
     "output_type": "stream",
     "text": [
      "Square of 1 is 1\n",
      "Square of 2 is 4\n",
      "Square of 3 is 9\n",
      "Square of 4 is 16\n",
      "Square of 5 is 25\n",
      "Cube of 1 is 1\n",
      "Cube of 2 is 8\n",
      "Cube of 3 is 27\n",
      "Cube of 4 is 64\n",
      "Cube of 5 is 125\n",
      "Both threads have finished.\n"
     ]
    }
   ],
   "source": [
    "import threading\n",
    "\n",
    "\n",
    "def print_squares():\n",
    "    for i in range(1, 6):\n",
    "        print(f\"Square of {i} is {i * i}\")\n",
    "\n",
    "\n",
    "def print_cubes():\n",
    "    for i in range(1, 6):\n",
    "        print(f\"Cube of {i} is {i * i * i}\")\n",
    "\n",
    "\n",
    "thread1 = threading.Thread(target=print_squares)\n",
    "thread2 = threading.Thread(target=print_cubes)\n",
    "\n",
    "\n",
    "thread1.start()\n",
    "thread2.start()\n",
    "\n",
    "\n",
    "thread1.join()\n",
    "thread2.join()\n",
    "\n",
    "print(\"Both threads have finished.\")\n"
   ]
  },
  {
   "cell_type": "raw",
   "id": "228a6798-57e2-4b85-a093-85f90841cd01",
   "metadata": {},
   "source": [
    "5. State advantages and disadvantages of multithreading"
   ]
  },
  {
   "cell_type": "raw",
   "id": "e2dabf59-4d84-441e-bc8d-34101b0fbbb8",
   "metadata": {},
   "source": [
    "Advantages of Multithreading:\n",
    "\n",
    "Improved Performance: Multithreading can lead to improved performance, especially in applications that perform I/O-bound operations (e.g., network requests, file I/O) or have tasks that can be parallelized. Multiple threads can execute tasks simultaneously, making better use of available CPU cores.\n",
    "\n",
    "Responsiveness: Multithreading allows you to keep a program responsive to user interactions. In graphical user interfaces (GUIs) and applications with event-driven programming, you can use threads to handle background tasks while keeping the user interface responsive.\n",
    "\n",
    "Resource Sharing: Threads share the same memory space, making it easier to share data and resources among them. This facilitates communication and data exchange between different parts of an application.\n",
    "\n",
    "Simplified Code: Multithreading can simplify complex applications by dividing them into smaller, manageable threads. Each thread can focus on a specific task or component of the application, making the code more modular and maintainable.\n",
    "\n",
    "Parallelism: While Python's Global Interpreter Lock (GIL) limits true parallelism in CPU-bound tasks, multithreading can still achieve parallelism for I/O-bound tasks and some multi-core processors, resulting in performance benefits."
   ]
  },
  {
   "cell_type": "raw",
   "id": "6e55127e-0223-4e1c-af08-37c9bd3840d7",
   "metadata": {},
   "source": [
    "Disadvantages of Multithreading:\n",
    "\n",
    "Complexity: Multithreaded code can be challenging to design, implement, and debug. It introduces potential issues like race conditions, deadlocks, and thread synchronization, making the code more complex.\n",
    "\n",
    "Concurrency Bugs: Multithreaded programs are prone to concurrency-related bugs that can be difficult to reproduce and debug. These bugs can lead to unexpected behavior and make it harder to reason about program state.\n",
    "\n",
    "Resource Contention: Threads can compete for resources such as CPU time and memory, leading to contention issues. Poorly designed multithreaded programs may experience performance degradation due to excessive context switching or resource contention.\n",
    "\n",
    "GIL Limitations: In Python, the Global Interpreter Lock (GIL) can limit the true parallelism of threads in CPU-bound tasks when using CPython, the most widely used Python interpreter. GIL prevents multiple native threads from executing Python code in true parallel on multi-core processors.\n",
    "\n",
    "Increased Memory Usage: Each thread has its own stack, which consumes memory. Creating too many threads can lead to increased memory usage, potentially causing memory-related issues.\n",
    "\n",
    "Portability: Multithreading behavior can be platform-dependent. Code that works well on one platform may not behave the same way on another. This can lead to portability challenges."
   ]
  },
  {
   "cell_type": "raw",
   "id": "962a76a1-ef6a-45e8-9976-8cae7e3f0e13",
   "metadata": {},
   "source": [
    "6. Explain deadlocks and race conditions."
   ]
  },
  {
   "cell_type": "code",
   "execution_count": null,
   "id": "5c82c003-f680-4262-bf84-d76241e1595d",
   "metadata": {},
   "outputs": [],
   "source": [
    "Deadlocks:\n",
    "\n",
    "A deadlock is a situation in which two or more threads or processes are unable to proceed with their execution because they are each waiting for the other(s) to release a resource. In other words, it's a scenario where two or more threads are stuck, and none of them can make progress."
   ]
  }
 ],
 "metadata": {
  "kernelspec": {
   "display_name": "Python 3 (ipykernel)",
   "language": "python",
   "name": "python3"
  },
  "language_info": {
   "codemirror_mode": {
    "name": "ipython",
    "version": 3
   },
   "file_extension": ".py",
   "mimetype": "text/x-python",
   "name": "python",
   "nbconvert_exporter": "python",
   "pygments_lexer": "ipython3",
   "version": "3.10.8"
  }
 },
 "nbformat": 4,
 "nbformat_minor": 5
}
