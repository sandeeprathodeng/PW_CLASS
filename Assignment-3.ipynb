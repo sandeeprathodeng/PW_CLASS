{
 "cells": [
  {
   "cell_type": "raw",
   "id": "fb90d5d3-e3ab-404c-be10-f3bdf1ef08cb",
   "metadata": {},
   "source": [
    "Q1. Which keyword is used to create a function? Create a function to return a list of odd numbers in the\n",
    "range of 1 to 25."
   ]
  },
  {
   "cell_type": "raw",
   "id": "6a6a2ea4-17a3-4454-af4f-2a155a5ac538",
   "metadata": {},
   "source": [
    "def keyword is used to create function"
   ]
  },
  {
   "cell_type": "code",
   "execution_count": 2,
   "id": "16c56884-48ff-4f47-84c9-00eace5a8745",
   "metadata": {},
   "outputs": [
    {
     "name": "stdout",
     "output_type": "stream",
     "text": [
      "[1, 3, 5, 7, 9, 11, 13, 15, 17, 19, 21, 23, 25]\n"
     ]
    }
   ],
   "source": [
    "def get_odd_numbers():\n",
    "    odd_numbers = []\n",
    "    for num in range(1, 26):\n",
    "        if num % 2 != 0:\n",
    "            odd_numbers.append(num)\n",
    "    return odd_numbers\n",
    "\n",
    "\n",
    "odd_numbers_list = get_odd_numbers()\n",
    "print(odd_numbers_list)\n"
   ]
  },
  {
   "cell_type": "raw",
   "id": "eeba900a-fb72-4acb-add4-9884d82a0ce0",
   "metadata": {},
   "source": [
    "Q2. Why *args and **kwargs is used in some functions? Create a function each for *args and **kwargs\n",
    "to demonstrate their use."
   ]
  },
  {
   "cell_type": "raw",
   "id": "ef0de788-d96c-4bbc-b32f-294146745d17",
   "metadata": {},
   "source": [
    "*args to print out all the arguments it receives"
   ]
  },
  {
   "cell_type": "code",
   "execution_count": 3,
   "id": "00664070-44bd-4036-b80e-b6098818267d",
   "metadata": {},
   "outputs": [
    {
     "name": "stdout",
     "output_type": "stream",
     "text": [
      "1\n",
      "2\n",
      "3\n",
      "Hello\n",
      "World\n",
      "!\n"
     ]
    }
   ],
   "source": [
    "def print_args(*args):\n",
    "    for arg in args:\n",
    "        print(arg)\n",
    "\n",
    "print_args(1, 2, 3)\n",
    "print_args('Hello', 'World', '!')\n"
   ]
  },
  {
   "cell_type": "raw",
   "id": "a56b2b59-273c-4ab4-be7d-e8b591084c7f",
   "metadata": {},
   "source": [
    "**kwargs to print out all the key-value pairs it receives:"
   ]
  },
  {
   "cell_type": "code",
   "execution_count": 4,
   "id": "cd104ad9-66d4-457c-a687-bf917331f043",
   "metadata": {},
   "outputs": [
    {
     "name": "stdout",
     "output_type": "stream",
     "text": [
      "name: Alice\n",
      "age: 30\n",
      "country: USA\n",
      "language: English\n",
      "population: 328200000\n"
     ]
    }
   ],
   "source": [
    "def print_kwargs(**kwargs):\n",
    "    for key, value in kwargs.items():\n",
    "        print(f\"{key}: {value}\")\n",
    "\n",
    "print_kwargs(name='Alice', age=30)\n",
    "print_kwargs(country='USA', language='English', population=328_200_000)\n"
   ]
  },
  {
   "cell_type": "raw",
   "id": "c1740741-818a-433c-90e9-41a42c6d73a0",
   "metadata": {},
   "source": [
    "Q3. What is an iterator in python? Name the method used to initialise the iterator object and the method\n",
    "used for iteration. Use these methods to print the first five elements of the given list [2, 4, 6, 8, 10, 12, 14,\n",
    "16, 18, 20]."
   ]
  },
  {
   "cell_type": "raw",
   "id": "381fa26f-5906-4fc8-a017-f0238a0f47bb",
   "metadata": {},
   "source": [
    "__iter__() and __next__(). These methods allow you to iterate through a sequence of values one at a time, using a loop or other iteration constructs"
   ]
  },
  {
   "cell_type": "code",
   "execution_count": 5,
   "id": "4f2c1c00-e45f-4650-a5c6-9e19328e7ee6",
   "metadata": {},
   "outputs": [
    {
     "name": "stdout",
     "output_type": "stream",
     "text": [
      "2\n",
      "4\n",
      "6\n",
      "8\n",
      "10\n"
     ]
    }
   ],
   "source": [
    "class MyIterator:\n",
    "    def __init__(self, data):\n",
    "        self.data = data\n",
    "        self.index = 0\n",
    "\n",
    "    def __iter__(self):\n",
    "        return self\n",
    "\n",
    "    def __next__(self):\n",
    "        if self.index < len(self.data):\n",
    "            value = self.data[self.index]\n",
    "            self.index += 1\n",
    "            return value\n",
    "        else:\n",
    "            raise StopIteration\n",
    "\n",
    "\n",
    "my_list = [2, 4, 6, 8, 10, 12, 14, 16, 18, 20]\n",
    "iterator = MyIterator(my_list)\n",
    "\n",
    "\n",
    "for _ in range(5):\n",
    "    print(next(iterator))\n"
   ]
  },
  {
   "cell_type": "raw",
   "id": "77edc703-a332-4879-b114-0b28e8f85444",
   "metadata": {},
   "source": [
    "Q4. What is a generator function in python? Why yield keyword is used? Give an example of a generator\n",
    "function."
   ]
  },
  {
   "cell_type": "raw",
   "id": "fb8317e1-bd43-4e97-b167-b4255d51a6cb",
   "metadata": {},
   "source": [
    "A generator function in Python is a special type of function that returns an iterator."
   ]
  },
  {
   "cell_type": "code",
   "execution_count": 7,
   "id": "d6c204c3-dd80-4fe9-a00f-a2799505ffdc",
   "metadata": {},
   "outputs": [
    {
     "name": "stdout",
     "output_type": "stream",
     "text": [
      "0\n",
      "1\n",
      "4\n",
      "9\n",
      "16\n"
     ]
    }
   ],
   "source": [
    "def generate_squares(n):\n",
    "    for i in range(n):\n",
    "        yield i ** 2\n",
    "\n",
    "\n",
    "squares_generator = generate_squares(5)\n",
    "\n",
    "\n",
    "for square in squares_generator:\n",
    "    print(square)\n"
   ]
  },
  {
   "cell_type": "raw",
   "id": "e52e6f53-3135-4b88-9b88-5d9d43fd35ce",
   "metadata": {},
   "source": [
    "Q5. Create a generator function for prime numbers less than 1000. Use the next() method to print the\n",
    "first 20 prime numbers."
   ]
  },
  {
   "cell_type": "code",
   "execution_count": 8,
   "id": "be1f8ecc-c0cf-4a34-9afe-f657693f75c6",
   "metadata": {},
   "outputs": [
    {
     "name": "stdout",
     "output_type": "stream",
     "text": [
      "2\n",
      "3\n",
      "5\n",
      "7\n",
      "11\n",
      "13\n",
      "17\n",
      "19\n",
      "23\n",
      "29\n",
      "31\n",
      "37\n",
      "41\n",
      "43\n",
      "47\n",
      "53\n",
      "59\n",
      "61\n",
      "67\n",
      "71\n"
     ]
    }
   ],
   "source": [
    "def is_prime(number):\n",
    "    if number <= 1:\n",
    "        return False\n",
    "    if number <= 3:\n",
    "        return True\n",
    "    if number % 2 == 0 or number % 3 == 0:\n",
    "        return False\n",
    "    i = 5\n",
    "    while i * i <= number:\n",
    "        if number % i == 0 or number % (i + 2) == 0:\n",
    "            return False\n",
    "        i += 6\n",
    "    return True\n",
    "\n",
    "def prime_generator(limit):\n",
    "    num = 2\n",
    "    count = 0\n",
    "    while count < limit:\n",
    "        if is_prime(num):\n",
    "            yield num\n",
    "            count += 1\n",
    "        num += 1\n",
    "\n",
    "# Creating a generator object\n",
    "prime_gen = prime_generator(20)\n",
    "\n",
    "# Using next() to print the first 20 prime numbers\n",
    "for _ in range(20):\n",
    "    print(next(prime_gen))\n"
   ]
  },
  {
   "cell_type": "raw",
   "id": "100cf260-7024-4706-ae28-e54a468e0cf6",
   "metadata": {},
   "source": [
    "Q6. Write a python program to print the first 10 Fibonacci numbers using a while loop."
   ]
  },
  {
   "cell_type": "code",
   "execution_count": 9,
   "id": "138c64ed-da0e-4141-a826-2e31f00c3cf6",
   "metadata": {},
   "outputs": [
    {
     "name": "stdout",
     "output_type": "stream",
     "text": [
      "[0, 1, 1, 2, 3, 5, 8, 13, 21, 34]\n"
     ]
    }
   ],
   "source": [
    "\n",
    "def print_fibonacci(n):\n",
    "    fib_numbers = [0, 1]\n",
    "    while len(fib_numbers) < n:\n",
    "        next_fib = fib_numbers[-1] + fib_numbers[-2]\n",
    "        fib_numbers.append(next_fib)\n",
    "\n",
    "    return fib_numbers\n",
    "\n",
    "\n",
    "fibonacci_sequence = print_fibonacci(10)\n",
    "print(fibonacci_sequence)\n"
   ]
  },
  {
   "cell_type": "raw",
   "id": "5c05652a-16eb-4f5a-83bd-277d2a799efc",
   "metadata": {},
   "source": [
    "Q7. Write a List Comprehension to iterate through the given string: ‘pwskills’.\n",
    "Expected output: ['p', 'w', 's', 'k', 'i', 'l', 'l', 's']"
   ]
  },
  {
   "cell_type": "code",
   "execution_count": 10,
   "id": "df04e36d-3b60-4be6-b56a-a0e7bfb957d4",
   "metadata": {},
   "outputs": [
    {
     "name": "stdout",
     "output_type": "stream",
     "text": [
      "['w', 's', 'k', 'i', 'l', 'l', 's']\n"
     ]
    }
   ],
   "source": [
    "input_string = 'pwskills'\n",
    "output_list = [char for char in input_string if char in 'wskil']\n",
    "print(output_list)\n"
   ]
  },
  {
   "cell_type": "raw",
   "id": "fc73aae3-fb95-4618-bbb6-fc4170ae216b",
   "metadata": {},
   "source": [
    "Q8. Write a python program to check whether a given number is Palindrome or not using a while loop."
   ]
  },
  {
   "cell_type": "code",
   "execution_count": 11,
   "id": "34119913-7e8f-45bc-b415-43d31f8a64fd",
   "metadata": {},
   "outputs": [
    {
     "name": "stdin",
     "output_type": "stream",
     "text": [
      "Enter a number:  101\n"
     ]
    },
    {
     "name": "stdout",
     "output_type": "stream",
     "text": [
      "101 is a palindrome.\n"
     ]
    }
   ],
   "source": [
    "def is_palindrome(number):\n",
    "    original_number = number\n",
    "    reversed_number = 0\n",
    "\n",
    "    while number > 0:\n",
    "        digit = number % 10\n",
    "        reversed_number = reversed_number * 10 + digit\n",
    "        number = number // 10\n",
    "\n",
    "    return original_number == reversed_number\n",
    "\n",
    "\n",
    "num = int(input(\"Enter a number: \"))\n",
    "\n",
    "if is_palindrome(num):\n",
    "    print(f\"{num} is a palindrome.\")\n",
    "else:\n",
    "    print(f\"{num} is not a palindrome.\")\n"
   ]
  },
  {
   "cell_type": "code",
   "execution_count": null,
   "id": "a74b25b6-0cc3-4159-84dd-1a03792f0682",
   "metadata": {},
   "outputs": [],
   "source": []
  },
  {
   "cell_type": "code",
   "execution_count": null,
   "id": "dd419670-acb8-4a3f-9560-eb61ca1b622b",
   "metadata": {},
   "outputs": [],
   "source": []
  }
 ],
 "metadata": {
  "kernelspec": {
   "display_name": "Python 3 (ipykernel)",
   "language": "python",
   "name": "python3"
  },
  "language_info": {
   "codemirror_mode": {
    "name": "ipython",
    "version": 3
   },
   "file_extension": ".py",
   "mimetype": "text/x-python",
   "name": "python",
   "nbconvert_exporter": "python",
   "pygments_lexer": "ipython3",
   "version": "3.10.8"
  }
 },
 "nbformat": 4,
 "nbformat_minor": 5
}
